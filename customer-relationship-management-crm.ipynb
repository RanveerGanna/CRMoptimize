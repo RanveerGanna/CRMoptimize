{
 "cells": [
  {
   "cell_type": "markdown",
   "metadata": {
    "papermill": {
     "duration": 0.032294,
     "end_time": "2021-02-20T10:31:39.037018",
     "exception": false,
     "start_time": "2021-02-20T10:31:39.004724",
     "status": "completed"
    },
    "tags": []
   },
   "source": [
    "<font color = '#F1C40F'>\n",
    "\n",
    "<a id = \"1\"></a><br>\n",
    "#  CUSTOMER RELATİONSHİP MANAGEMENT(CRM) \n",
    "<img style=\"float: margin:1000px 50px 50px 1px; max-width:500px\" src=\"https://previews.123rf.com/images/wrightstudio/wrightstudio1706/wrightstudio170604163/80553736-crm-customer-relationship-management-concept-customer-service-and-relationship-.jpg\">\n"
   ]
  },
  {
   "cell_type": "markdown",
   "metadata": {
    "papermill": {
     "duration": 0.035742,
     "end_time": "2021-02-20T10:31:39.104771",
     "exception": false,
     "start_time": "2021-02-20T10:31:39.069029",
     "status": "completed"
    },
    "tags": []
   },
   "source": [
    "\n",
    "    \n",
    "<font color = '#FF7F50'>\n",
    "\n",
    "Content:\n",
    "1. [Customer Relationship Management (CRM)](#1)\n",
    "* [What is CRM?](#2)\n",
    "* [What is the purpose?](#3)\n",
    "* [Content of Dataset](#4)\n",
    "* [Attribute Information](#5)\n",
    "2. [Load Dataset](#6)\n",
    "3. [Data Preprocessing](#7)\n",
    "4. [RFM](#10)\n",
    "* [What is RFM?](#11)\n",
    "* [RFM Segments](#12)\n",
    "5. [What is Customer Lifetime Value(CLV or CLTV)?](#13)\n",
    "* [CLTV Calculated](#14)\n",
    "6. [CLTV Predicted](#15)\n",
    "* [What is a cohort model?](#16)\n",
    "* [BG-NBD](#17)\n",
    "* [Gamma Gamma](#18)\n",
    "7. [And Finally CRM](#19)\n",
    "8. [Final](#20)"
   ]
  },
  {
   "cell_type": "markdown",
   "metadata": {
    "papermill": {
     "duration": 0.029212,
     "end_time": "2021-02-20T10:31:39.165517",
     "exception": false,
     "start_time": "2021-02-20T10:31:39.136305",
     "status": "completed"
    },
    "tags": []
   },
   "source": [
    "\n",
    "<font color = '#34495E'>\n",
    "\n",
    " <a id = \"2\"></a><br>\n",
    "### What is CRM? \n",
    "\n",
    "Customer relationship management (CRM) is the combination of practices, strategies and technologies that companies use to manage and analyze customer interactions and data throughout the customer lifecycle.It tries to understand the customer profile of the company and to communicate according to these profiles. Moreover CRM targets to gain new customers other than existing customers\n",
    "\n",
    "Analyzes on customers, finding audiences belonging to certain behaviors and organizing campaigns suitable for that audienceWith CRM software, the customer feels special, so dependency occurs for the company or product.In this study, we will create CRM by making RFM and then CLTV.\n",
    "\n",
    " <a id = \"3\"></a><br>\n",
    "### What is the purpose?\n",
    "\n",
    "In this notebook, we will create CRM by making RFM and then CLTV.\n",
    "\n",
    "<a id = \"4\"></a><br>\n",
    "### Content of Dataset\n",
    "\n",
    "This Online Retail II data set contains all the transactions occurring for a UK-based and registered, non-store online retail between 01/12/2009 and 09/12/2011.The company mainly sells unique all-occasion gift-ware. Many customers of the company are wholesalers.\n",
    "\n",
    "<a id = \"5\"></a><br>\n",
    "### Attribute Information:\n",
    "\n",
    "InvoiceNo: Invoice number. If this code starts with the letter 'c', it indicates a cancellation.\n",
    "StockCode: Product code.\n",
    "Description: Product name.\n",
    "Quantity: The quantities of each product per transaction.\n",
    "InvoiceDate: Invoice date and time.The day and time when a transaction was generated.\n",
    "UnitPrice: Unit price. Product price per unit in sterling.\n",
    "CustomerID: Customer number.A 5-digit integral number uniquely assigned to each customer.\n",
    "Country: Country name. The name of the country where a customer resides.\n",
    "\n",
    "\n",
    "\n"
   ]
  },
  {
   "cell_type": "markdown",
   "metadata": {
    "papermill": {
     "duration": 0.02928,
     "end_time": "2021-02-20T10:31:39.224725",
     "exception": false,
     "start_time": "2021-02-20T10:31:39.195445",
     "status": "completed"
    },
    "tags": []
   },
   "source": [
    "# Let's start now!"
   ]
  },
  {
   "cell_type": "code",
   "execution_count": 1,
   "metadata": {
    "_cell_guid": "b1076dfc-b9ad-4769-8c92-a6c4dae69d19",
    "_uuid": "8f2839f25d086af736a60e9eeb907d3b93b6e0e5",
    "execution": {
     "iopub.execute_input": "2021-02-20T10:31:39.292049Z",
     "iopub.status.busy": "2021-02-20T10:31:39.291311Z",
     "iopub.status.idle": "2021-02-20T10:31:39.306596Z",
     "shell.execute_reply": "2021-02-20T10:31:39.307519Z"
    },
    "papermill": {
     "duration": 0.053504,
     "end_time": "2021-02-20T10:31:39.308017",
     "exception": false,
     "start_time": "2021-02-20T10:31:39.254513",
     "status": "completed"
    },
    "tags": []
   },
   "outputs": [
    {
     "name": "stdout",
     "output_type": "stream",
     "text": [
      "/kaggle/input/online-retail-ii-data-set-from-ml-repository/online_retail_II.xlsx\n"
     ]
    }
   ],
   "source": [
    "# This Python 3 environment comes with many helpful analytics libraries installed\n",
    "# It is defined by the kaggle/python Docker image: https://github.com/kaggle/docker-python\n",
    "# For example, here's several helpful packages to load\n",
    "\n",
    "import numpy as np # linear algebra\n",
    "import pandas as pd # data processing, CSV file I/O (e.g. pd.read_csv)\n",
    "\n",
    "# Input data files are available in the read-only \"../input/\" directory\n",
    "# For example, running this (by clicking run or pressing Shift+Enter) will list all files under the input directory\n",
    "\n",
    "import os\n",
    "for dirname, _, filenames in os.walk('/kaggle/input'):\n",
    "    for filename in filenames:\n",
    "        print(os.path.join(dirname, filename))\n",
    "\n",
    "# You can write up to 20GB to the current directory (/kaggle/working/) that gets preserved as output when you create a version using \"Save & Run All\" \n",
    "# You can also write temporary files to /kaggle/temp/, but they won't be saved outside of the current session"
   ]
  },
  {
   "cell_type": "markdown",
   "metadata": {
    "papermill": {
     "duration": 0.029481,
     "end_time": "2021-02-20T10:31:39.368653",
     "exception": false,
     "start_time": "2021-02-20T10:31:39.339172",
     "status": "completed"
    },
    "tags": []
   },
   "source": [
    "\n",
    "    \n",
    "<font color = '#F1C40F'>\n",
    "\n",
    "<a id = \"6\"></a><br>\n",
    "#  Load Dataset"
   ]
  },
  {
   "cell_type": "code",
   "execution_count": 2,
   "metadata": {
    "execution": {
     "iopub.execute_input": "2021-02-20T10:31:39.439987Z",
     "iopub.status.busy": "2021-02-20T10:31:39.436958Z",
     "iopub.status.idle": "2021-02-20T10:32:08.177153Z",
     "shell.execute_reply": "2021-02-20T10:32:08.176463Z"
    },
    "papermill": {
     "duration": 28.779045,
     "end_time": "2021-02-20T10:32:08.177345",
     "exception": false,
     "start_time": "2021-02-20T10:31:39.398300",
     "status": "completed"
    },
    "tags": []
   },
   "outputs": [
    {
     "name": "stdout",
     "output_type": "stream",
     "text": [
      "Collecting xlrd\r\n",
      "  Downloading xlrd-2.0.1-py2.py3-none-any.whl (96 kB)\r\n",
      "\u001b[K     |████████████████████████████████| 96 kB 984 kB/s \r\n",
      "\u001b[?25hInstalling collected packages: xlrd\r\n",
      "Successfully installed xlrd-2.0.1\r\n",
      "Collecting openpyxl\r\n",
      "  Downloading openpyxl-3.0.6-py2.py3-none-any.whl (242 kB)\r\n",
      "\u001b[K     |████████████████████████████████| 242 kB 1.2 MB/s \r\n",
      "\u001b[?25hCollecting jdcal\r\n",
      "  Downloading jdcal-1.4.1-py2.py3-none-any.whl (9.5 kB)\r\n",
      "Collecting et-xmlfile\r\n",
      "  Downloading et_xmlfile-1.0.1.tar.gz (8.4 kB)\r\n",
      "Building wheels for collected packages: et-xmlfile\r\n",
      "  Building wheel for et-xmlfile (setup.py) ... \u001b[?25l-\b \b\\\b \bdone\r\n",
      "\u001b[?25h  Created wheel for et-xmlfile: filename=et_xmlfile-1.0.1-py3-none-any.whl size=8913 sha256=66a1a5cbb305e3a4d4a926f8768db94c96d6702ee709ae7d4f2b0a7268b1c6d2\r\n",
      "  Stored in directory: /root/.cache/pip/wheels/e2/bd/55/048b4fd505716c4c298f42ee02dffd9496bb6d212b266c7f31\r\n",
      "Successfully built et-xmlfile\r\n",
      "Installing collected packages: jdcal, et-xmlfile, openpyxl\r\n",
      "Successfully installed et-xmlfile-1.0.1 jdcal-1.4.1 openpyxl-3.0.6\r\n",
      "Collecting lifetimes\r\n",
      "  Downloading Lifetimes-0.11.3-py3-none-any.whl (584 kB)\r\n",
      "\u001b[K     |████████████████████████████████| 584 kB 1.2 MB/s \r\n",
      "\u001b[?25hRequirement already satisfied: dill>=0.2.6 in /opt/conda/lib/python3.7/site-packages (from lifetimes) (0.3.3)\r\n",
      "Requirement already satisfied: pandas>=0.24.0 in /opt/conda/lib/python3.7/site-packages (from lifetimes) (1.2.0)\r\n",
      "Requirement already satisfied: autograd>=1.2.0 in /opt/conda/lib/python3.7/site-packages (from lifetimes) (1.3)\r\n",
      "Requirement already satisfied: numpy>=1.10.0 in /opt/conda/lib/python3.7/site-packages (from lifetimes) (1.19.5)\r\n",
      "Requirement already satisfied: scipy>=1.0.0 in /opt/conda/lib/python3.7/site-packages (from lifetimes) (1.4.1)\r\n",
      "Requirement already satisfied: future>=0.15.2 in /opt/conda/lib/python3.7/site-packages (from autograd>=1.2.0->lifetimes) (0.18.2)\r\n",
      "Requirement already satisfied: python-dateutil>=2.7.3 in /opt/conda/lib/python3.7/site-packages (from pandas>=0.24.0->lifetimes) (2.8.1)\r\n",
      "Requirement already satisfied: pytz>=2017.3 in /opt/conda/lib/python3.7/site-packages (from pandas>=0.24.0->lifetimes) (2020.5)\r\n",
      "Requirement already satisfied: six>=1.5 in /opt/conda/lib/python3.7/site-packages (from python-dateutil>=2.7.3->pandas>=0.24.0->lifetimes) (1.15.0)\r\n",
      "Installing collected packages: lifetimes\r\n",
      "Successfully installed lifetimes-0.11.3\r\n"
     ]
    }
   ],
   "source": [
    "!pip install xlrd\n",
    "!pip install openpyxl\n",
    "!pip install lifetimes\n",
    "import pandas as pd\n",
    "import numpy as np\n",
    "import matplotlib.pyplot as plt\n",
    "import datetime as dt\n",
    "import seaborn as sns\n",
    "import missingno as msno\n",
    "from sklearn.preprocessing import MinMaxScaler\n",
    "from lifetimes import BetaGeoFitter\n",
    "from lifetimes import GammaGammaFitter\n",
    "from lifetimes.plotting import plot_period_transactions\n",
    "import warnings\n",
    "warnings.filterwarnings(\"ignore\")"
   ]
  },
  {
   "cell_type": "code",
   "execution_count": 3,
   "metadata": {
    "execution": {
     "iopub.execute_input": "2021-02-20T10:32:08.262482Z",
     "iopub.status.busy": "2021-02-20T10:32:08.261790Z",
     "iopub.status.idle": "2021-02-20T10:34:00.302920Z",
     "shell.execute_reply": "2021-02-20T10:34:00.301735Z"
    },
    "papermill": {
     "duration": 112.086165,
     "end_time": "2021-02-20T10:34:00.303103",
     "exception": false,
     "start_time": "2021-02-20T10:32:08.216938",
     "status": "completed"
    },
    "tags": []
   },
   "outputs": [],
   "source": [
    "# reading the dataset\n",
    "\n",
    "df1=pd.read_excel(\"/kaggle/input/online-retail-ii-data-set-from-ml-repository/online_retail_II.xlsx\",\n",
    "                  sheet_name=\"Year 2009-2010\")"
   ]
  },
  {
   "cell_type": "code",
   "execution_count": 4,
   "metadata": {
    "execution": {
     "iopub.execute_input": "2021-02-20T10:34:00.389072Z",
     "iopub.status.busy": "2021-02-20T10:34:00.388417Z",
     "iopub.status.idle": "2021-02-20T10:34:00.431563Z",
     "shell.execute_reply": "2021-02-20T10:34:00.432133Z"
    },
    "papermill": {
     "duration": 0.088814,
     "end_time": "2021-02-20T10:34:00.432380",
     "exception": false,
     "start_time": "2021-02-20T10:34:00.343566",
     "status": "completed"
    },
    "tags": []
   },
   "outputs": [],
   "source": [
    "#copy\n",
    "\n",
    "df=df1.copy()"
   ]
  },
  {
   "cell_type": "code",
   "execution_count": 5,
   "metadata": {
    "execution": {
     "iopub.execute_input": "2021-02-20T10:34:00.518060Z",
     "iopub.status.busy": "2021-02-20T10:34:00.517385Z",
     "iopub.status.idle": "2021-02-20T10:34:00.555426Z",
     "shell.execute_reply": "2021-02-20T10:34:00.554720Z"
    },
    "papermill": {
     "duration": 0.082231,
     "end_time": "2021-02-20T10:34:00.555587",
     "exception": false,
     "start_time": "2021-02-20T10:34:00.473356",
     "status": "completed"
    },
    "tags": []
   },
   "outputs": [
    {
     "data": {
      "text/html": [
       "<div>\n",
       "<style scoped>\n",
       "    .dataframe tbody tr th:only-of-type {\n",
       "        vertical-align: middle;\n",
       "    }\n",
       "\n",
       "    .dataframe tbody tr th {\n",
       "        vertical-align: top;\n",
       "    }\n",
       "\n",
       "    .dataframe thead th {\n",
       "        text-align: right;\n",
       "    }\n",
       "</style>\n",
       "<table border=\"1\" class=\"dataframe\">\n",
       "  <thead>\n",
       "    <tr style=\"text-align: right;\">\n",
       "      <th></th>\n",
       "      <th>Invoice</th>\n",
       "      <th>StockCode</th>\n",
       "      <th>Description</th>\n",
       "      <th>Quantity</th>\n",
       "      <th>InvoiceDate</th>\n",
       "      <th>Price</th>\n",
       "      <th>Customer ID</th>\n",
       "      <th>Country</th>\n",
       "    </tr>\n",
       "  </thead>\n",
       "  <tbody>\n",
       "    <tr>\n",
       "      <th>0</th>\n",
       "      <td>489434</td>\n",
       "      <td>85048</td>\n",
       "      <td>15CM CHRISTMAS GLASS BALL 20 LIGHTS</td>\n",
       "      <td>12</td>\n",
       "      <td>2009-12-01 07:45:00</td>\n",
       "      <td>6.95</td>\n",
       "      <td>13085.0</td>\n",
       "      <td>United Kingdom</td>\n",
       "    </tr>\n",
       "    <tr>\n",
       "      <th>1</th>\n",
       "      <td>489434</td>\n",
       "      <td>79323P</td>\n",
       "      <td>PINK CHERRY LIGHTS</td>\n",
       "      <td>12</td>\n",
       "      <td>2009-12-01 07:45:00</td>\n",
       "      <td>6.75</td>\n",
       "      <td>13085.0</td>\n",
       "      <td>United Kingdom</td>\n",
       "    </tr>\n",
       "    <tr>\n",
       "      <th>2</th>\n",
       "      <td>489434</td>\n",
       "      <td>79323W</td>\n",
       "      <td>WHITE CHERRY LIGHTS</td>\n",
       "      <td>12</td>\n",
       "      <td>2009-12-01 07:45:00</td>\n",
       "      <td>6.75</td>\n",
       "      <td>13085.0</td>\n",
       "      <td>United Kingdom</td>\n",
       "    </tr>\n",
       "    <tr>\n",
       "      <th>3</th>\n",
       "      <td>489434</td>\n",
       "      <td>22041</td>\n",
       "      <td>RECORD FRAME 7\" SINGLE SIZE</td>\n",
       "      <td>48</td>\n",
       "      <td>2009-12-01 07:45:00</td>\n",
       "      <td>2.10</td>\n",
       "      <td>13085.0</td>\n",
       "      <td>United Kingdom</td>\n",
       "    </tr>\n",
       "    <tr>\n",
       "      <th>4</th>\n",
       "      <td>489434</td>\n",
       "      <td>21232</td>\n",
       "      <td>STRAWBERRY CERAMIC TRINKET BOX</td>\n",
       "      <td>24</td>\n",
       "      <td>2009-12-01 07:45:00</td>\n",
       "      <td>1.25</td>\n",
       "      <td>13085.0</td>\n",
       "      <td>United Kingdom</td>\n",
       "    </tr>\n",
       "  </tbody>\n",
       "</table>\n",
       "</div>"
      ],
      "text/plain": [
       "  Invoice StockCode                          Description  Quantity  \\\n",
       "0  489434     85048  15CM CHRISTMAS GLASS BALL 20 LIGHTS        12   \n",
       "1  489434    79323P                   PINK CHERRY LIGHTS        12   \n",
       "2  489434    79323W                  WHITE CHERRY LIGHTS        12   \n",
       "3  489434     22041         RECORD FRAME 7\" SINGLE SIZE         48   \n",
       "4  489434     21232       STRAWBERRY CERAMIC TRINKET BOX        24   \n",
       "\n",
       "          InvoiceDate  Price  Customer ID         Country  \n",
       "0 2009-12-01 07:45:00   6.95      13085.0  United Kingdom  \n",
       "1 2009-12-01 07:45:00   6.75      13085.0  United Kingdom  \n",
       "2 2009-12-01 07:45:00   6.75      13085.0  United Kingdom  \n",
       "3 2009-12-01 07:45:00   2.10      13085.0  United Kingdom  \n",
       "4 2009-12-01 07:45:00   1.25      13085.0  United Kingdom  "
      ]
     },
     "execution_count": 5,
     "metadata": {},
     "output_type": "execute_result"
    }
   ],
   "source": [
    "df.head()"
   ]
  },
  {
   "cell_type": "code",
   "execution_count": 6,
   "metadata": {
    "execution": {
     "iopub.execute_input": "2021-02-20T10:34:00.654057Z",
     "iopub.status.busy": "2021-02-20T10:34:00.649419Z",
     "iopub.status.idle": "2021-02-20T10:34:00.939511Z",
     "shell.execute_reply": "2021-02-20T10:34:00.938769Z"
    },
    "papermill": {
     "duration": 0.340739,
     "end_time": "2021-02-20T10:34:00.939677",
     "exception": false,
     "start_time": "2021-02-20T10:34:00.598938",
     "status": "completed"
    },
    "tags": []
   },
   "outputs": [
    {
     "name": "stdout",
     "output_type": "stream",
     "text": [
      "##################### Shape #####################\n",
      "(525461, 8)\n",
      "##################### Types #####################\n",
      "Invoice                object\n",
      "StockCode              object\n",
      "Description            object\n",
      "Quantity                int64\n",
      "InvoiceDate    datetime64[ns]\n",
      "Price                 float64\n",
      "Customer ID           float64\n",
      "Country                object\n",
      "dtype: object\n",
      "##################### Head #####################\n",
      "  Invoice StockCode                          Description  Quantity  \\\n",
      "0  489434     85048  15CM CHRISTMAS GLASS BALL 20 LIGHTS        12   \n",
      "1  489434    79323P                   PINK CHERRY LIGHTS        12   \n",
      "2  489434    79323W                  WHITE CHERRY LIGHTS        12   \n",
      "\n",
      "          InvoiceDate  Price  Customer ID         Country  \n",
      "0 2009-12-01 07:45:00   6.95      13085.0  United Kingdom  \n",
      "1 2009-12-01 07:45:00   6.75      13085.0  United Kingdom  \n",
      "2 2009-12-01 07:45:00   6.75      13085.0  United Kingdom  \n",
      "##################### Tail #####################\n",
      "       Invoice StockCode                         Description  Quantity  \\\n",
      "525458  538171     22751      FELTCRAFT PRINCESS OLIVIA DOLL         1   \n",
      "525459  538171     20970  PINK FLORAL FELTCRAFT SHOULDER BAG         2   \n",
      "525460  538171     21931              JUMBO STORAGE BAG SUKI         2   \n",
      "\n",
      "               InvoiceDate  Price  Customer ID         Country  \n",
      "525458 2010-12-09 20:01:00   3.75      17530.0  United Kingdom  \n",
      "525459 2010-12-09 20:01:00   3.75      17530.0  United Kingdom  \n",
      "525460 2010-12-09 20:01:00   1.95      17530.0  United Kingdom  \n",
      "##################### NA #####################\n",
      "Invoice             0\n",
      "StockCode           0\n",
      "Description      2928\n",
      "Quantity            0\n",
      "InvoiceDate         0\n",
      "Price               0\n",
      "Customer ID    107927\n",
      "Country             0\n",
      "dtype: int64\n",
      "##################### Quantiles #####################\n",
      "                 0.00      0.05     0.50      0.95      0.99      1.00\n",
      "Quantity     -9600.00      1.00      3.0     30.00    120.00  19152.00\n",
      "Price       -53594.36      0.42      2.1     10.17     19.95  25111.09\n",
      "Customer ID  12346.00  12725.00  15311.0  17913.00  18196.00  18287.00\n"
     ]
    }
   ],
   "source": [
    "#Checking Variables\n",
    "\n",
    "def check_df(dataframe):\n",
    "    print(\"##################### Shape #####################\")\n",
    "    print(dataframe.shape)\n",
    "    print(\"##################### Types #####################\")\n",
    "    print(dataframe.dtypes)\n",
    "    print(\"##################### Head #####################\")\n",
    "    print(dataframe.head(3))\n",
    "    print(\"##################### Tail #####################\")\n",
    "    print(dataframe.tail(3))\n",
    "    print(\"##################### NA #####################\")\n",
    "    print(dataframe.isnull().sum())\n",
    "    print(\"##################### Quantiles #####################\")\n",
    "    print(dataframe.quantile([0, 0.05, 0.50, 0.95, 0.99, 1]).T)\n",
    "\n",
    "check_df(df)"
   ]
  },
  {
   "cell_type": "markdown",
   "metadata": {
    "papermill": {
     "duration": 0.042733,
     "end_time": "2021-02-20T10:34:01.024188",
     "exception": false,
     "start_time": "2021-02-20T10:34:00.981455",
     "status": "completed"
    },
    "tags": []
   },
   "source": [
    "<font color = '#D35400'>\n",
    "\n",
    "Check out descriptive statistics of numerical variables. See the difference between 75% and 99% values and then See the difference between 99% and max values. We can think that there are some outliers."
   ]
  },
  {
   "cell_type": "code",
   "execution_count": 7,
   "metadata": {
    "execution": {
     "iopub.execute_input": "2021-02-20T10:34:01.122480Z",
     "iopub.status.busy": "2021-02-20T10:34:01.121760Z",
     "iopub.status.idle": "2021-02-20T10:34:01.209805Z",
     "shell.execute_reply": "2021-02-20T10:34:01.209261Z"
    },
    "papermill": {
     "duration": 0.143502,
     "end_time": "2021-02-20T10:34:01.209978",
     "exception": false,
     "start_time": "2021-02-20T10:34:01.066476",
     "status": "completed"
    },
    "tags": []
   },
   "outputs": [
    {
     "data": {
      "text/html": [
       "<div>\n",
       "<style scoped>\n",
       "    .dataframe tbody tr th:only-of-type {\n",
       "        vertical-align: middle;\n",
       "    }\n",
       "\n",
       "    .dataframe tbody tr th {\n",
       "        vertical-align: top;\n",
       "    }\n",
       "\n",
       "    .dataframe thead th {\n",
       "        text-align: right;\n",
       "    }\n",
       "</style>\n",
       "<table border=\"1\" class=\"dataframe\">\n",
       "  <thead>\n",
       "    <tr style=\"text-align: right;\">\n",
       "      <th></th>\n",
       "      <th>count</th>\n",
       "      <th>mean</th>\n",
       "      <th>std</th>\n",
       "      <th>min</th>\n",
       "      <th>1%</th>\n",
       "      <th>25%</th>\n",
       "      <th>50%</th>\n",
       "      <th>75%</th>\n",
       "      <th>99%</th>\n",
       "      <th>max</th>\n",
       "    </tr>\n",
       "  </thead>\n",
       "  <tbody>\n",
       "    <tr>\n",
       "      <th>Quantity</th>\n",
       "      <td>525461.0</td>\n",
       "      <td>10.337667</td>\n",
       "      <td>107.424110</td>\n",
       "      <td>-9600.00</td>\n",
       "      <td>-3.00</td>\n",
       "      <td>1.00</td>\n",
       "      <td>3.0</td>\n",
       "      <td>10.00</td>\n",
       "      <td>120.00</td>\n",
       "      <td>19152.00</td>\n",
       "    </tr>\n",
       "    <tr>\n",
       "      <th>Price</th>\n",
       "      <td>525461.0</td>\n",
       "      <td>4.688834</td>\n",
       "      <td>146.126914</td>\n",
       "      <td>-53594.36</td>\n",
       "      <td>0.21</td>\n",
       "      <td>1.25</td>\n",
       "      <td>2.1</td>\n",
       "      <td>4.21</td>\n",
       "      <td>19.95</td>\n",
       "      <td>25111.09</td>\n",
       "    </tr>\n",
       "    <tr>\n",
       "      <th>Customer ID</th>\n",
       "      <td>417534.0</td>\n",
       "      <td>15360.645478</td>\n",
       "      <td>1680.811316</td>\n",
       "      <td>12346.00</td>\n",
       "      <td>12435.00</td>\n",
       "      <td>13983.00</td>\n",
       "      <td>15311.0</td>\n",
       "      <td>16799.00</td>\n",
       "      <td>18196.00</td>\n",
       "      <td>18287.00</td>\n",
       "    </tr>\n",
       "  </tbody>\n",
       "</table>\n",
       "</div>"
      ],
      "text/plain": [
       "                count          mean          std       min        1%  \\\n",
       "Quantity     525461.0     10.337667   107.424110  -9600.00     -3.00   \n",
       "Price        525461.0      4.688834   146.126914 -53594.36      0.21   \n",
       "Customer ID  417534.0  15360.645478  1680.811316  12346.00  12435.00   \n",
       "\n",
       "                  25%      50%       75%       99%       max  \n",
       "Quantity         1.00      3.0     10.00    120.00  19152.00  \n",
       "Price            1.25      2.1      4.21     19.95  25111.09  \n",
       "Customer ID  13983.00  15311.0  16799.00  18196.00  18287.00  "
      ]
     },
     "execution_count": 7,
     "metadata": {},
     "output_type": "execute_result"
    }
   ],
   "source": [
    "df.describe([0.01,0.25,0.50,0.75,0.99]).T"
   ]
  },
  {
   "cell_type": "code",
   "execution_count": 8,
   "metadata": {
    "execution": {
     "iopub.execute_input": "2021-02-20T10:34:01.316120Z",
     "iopub.status.busy": "2021-02-20T10:34:01.315467Z",
     "iopub.status.idle": "2021-02-20T10:34:02.010164Z",
     "shell.execute_reply": "2021-02-20T10:34:02.010803Z"
    },
    "papermill": {
     "duration": 0.758581,
     "end_time": "2021-02-20T10:34:02.011006",
     "exception": false,
     "start_time": "2021-02-20T10:34:01.252425",
     "status": "completed"
    },
    "tags": []
   },
   "outputs": [
    {
     "data": {
      "image/png": "[encoded data removed]",
      "text/plain": [
       "<Figure size 1440x864 with 2 Axes>"
      ]
     },
     "metadata": {
      "needs_background": "light"
     },
     "output_type": "display_data"
    }
   ],
   "source": [
    "# there is no specific correlation between missing values\n",
    "\n",
    "\n",
    "msno.heatmap(df);"
   ]
  },
  {
   "cell_type": "code",
   "execution_count": 9,
   "metadata": {
    "execution": {
     "iopub.execute_input": "2021-02-20T10:34:02.106021Z",
     "iopub.status.busy": "2021-02-20T10:34:02.105262Z",
     "iopub.status.idle": "2021-02-20T10:34:02.359945Z",
     "shell.execute_reply": "2021-02-20T10:34:02.359378Z"
    },
    "papermill": {
     "duration": 0.305057,
     "end_time": "2021-02-20T10:34:02.360115",
     "exception": false,
     "start_time": "2021-02-20T10:34:02.055058",
     "status": "completed"
    },
    "tags": []
   },
   "outputs": [
    {
     "data": {
      "image/png": "[encoded data removed]",
      "text/plain": [
       "<Figure size 432x288 with 1 Axes>"
      ]
     },
     "metadata": {
      "needs_background": "light"
     },
     "output_type": "display_data"
    }
   ],
   "source": [
    "sns.boxplot(df[\"Quantity\"]);"
   ]
  },
  {
   "cell_type": "code",
   "execution_count": 10,
   "metadata": {
    "execution": {
     "iopub.execute_input": "2021-02-20T10:34:02.455850Z",
     "iopub.status.busy": "2021-02-20T10:34:02.454657Z",
     "iopub.status.idle": "2021-02-20T10:34:02.661031Z",
     "shell.execute_reply": "2021-02-20T10:34:02.660397Z"
    },
    "papermill": {
     "duration": 0.256596,
     "end_time": "2021-02-20T10:34:02.661189",
     "exception": false,
     "start_time": "2021-02-20T10:34:02.404593",
     "status": "completed"
    },
    "tags": []
   },
   "outputs": [
    {
     "data": {
      "image/png": "[encoded data removed]",
      "text/plain": [
       "<Figure size 432x288 with 1 Axes>"
      ]
     },
     "metadata": {
      "needs_background": "light"
     },
     "output_type": "display_data"
    }
   ],
   "source": [
    "sns.boxplot(df[\"Price\"]);"
   ]
  },
  {
   "cell_type": "markdown",
   "metadata": {
    "papermill": {
     "duration": 0.045549,
     "end_time": "2021-02-20T10:34:02.752118",
     "exception": false,
     "start_time": "2021-02-20T10:34:02.706569",
     "status": "completed"
    },
    "tags": []
   },
   "source": [
    "<font color = '#F1C40F'>\n",
    "\n",
    " <a id = \"7\"></a><br>\n",
    "# Data Preprocessing"
   ]
  },
  {
   "cell_type": "markdown",
   "metadata": {
    "papermill": {
     "duration": 0.044444,
     "end_time": "2021-02-20T10:34:02.841794",
     "exception": false,
     "start_time": "2021-02-20T10:34:02.797350",
     "status": "completed"
    },
    "tags": []
   },
   "source": [
    "<font color = '#D35400'>\n",
    "Outlier values are trimmed (very little) without damaging the data.Here we have set a lower and upper limit. But since the lower limit is set, we'll only assign it to the upper limit. We'll do it for Quantity and Price."
   ]
  },
  {
   "cell_type": "code",
   "execution_count": 11,
   "metadata": {
    "execution": {
     "iopub.execute_input": "2021-02-20T10:34:02.941166Z",
     "iopub.status.busy": "2021-02-20T10:34:02.940482Z",
     "iopub.status.idle": "2021-02-20T10:34:02.944127Z",
     "shell.execute_reply": "2021-02-20T10:34:02.943602Z"
    },
    "papermill": {
     "duration": 0.057374,
     "end_time": "2021-02-20T10:34:02.944291",
     "exception": false,
     "start_time": "2021-02-20T10:34:02.886917",
     "status": "completed"
    },
    "tags": []
   },
   "outputs": [],
   "source": [
    "def outlier_thresholds(dataframe, variable):\n",
    "    quartile1 = dataframe[variable].quantile(0.01)\n",
    "    quartile3 = dataframe[variable].quantile(0.99)\n",
    "    interquantile_range = quartile3 - quartile1\n",
    "    up_limit = quartile3 + 1.5 * interquantile_range\n",
    "    low_limit = quartile1 - 1.5 * interquantile_range\n",
    "    return low_limit, up_limit\n",
    "\n",
    "\n",
    "def replace_with_thresholds(dataframe, variable):\n",
    "    low_limit, up_limit = outlier_thresholds(dataframe, variable)\n",
    "    dataframe.loc[(dataframe[variable] > up_limit), variable] = up_limit\n",
    "\n"
   ]
  },
  {
   "cell_type": "code",
   "execution_count": 12,
   "metadata": {
    "execution": {
     "iopub.execute_input": "2021-02-20T10:34:03.040123Z",
     "iopub.status.busy": "2021-02-20T10:34:03.039452Z",
     "iopub.status.idle": "2021-02-20T10:34:03.110578Z",
     "shell.execute_reply": "2021-02-20T10:34:03.109994Z"
    },
    "papermill": {
     "duration": 0.121704,
     "end_time": "2021-02-20T10:34:03.110745",
     "exception": false,
     "start_time": "2021-02-20T10:34:02.989041",
     "status": "completed"
    },
    "tags": []
   },
   "outputs": [],
   "source": [
    "replace_with_thresholds(df,\"Quantity\")\n",
    "replace_with_thresholds(df,\"Price\")"
   ]
  },
  {
   "cell_type": "code",
   "execution_count": 13,
   "metadata": {
    "execution": {
     "iopub.execute_input": "2021-02-20T10:34:03.211772Z",
     "iopub.status.busy": "2021-02-20T10:34:03.210997Z",
     "iopub.status.idle": "2021-02-20T10:34:03.298565Z",
     "shell.execute_reply": "2021-02-20T10:34:03.299087Z"
    },
    "papermill": {
     "duration": 0.142683,
     "end_time": "2021-02-20T10:34:03.299322",
     "exception": false,
     "start_time": "2021-02-20T10:34:03.156639",
     "status": "completed"
    },
    "tags": []
   },
   "outputs": [
    {
     "data": {
      "text/html": [
       "<div>\n",
       "<style scoped>\n",
       "    .dataframe tbody tr th:only-of-type {\n",
       "        vertical-align: middle;\n",
       "    }\n",
       "\n",
       "    .dataframe tbody tr th {\n",
       "        vertical-align: top;\n",
       "    }\n",
       "\n",
       "    .dataframe thead th {\n",
       "        text-align: right;\n",
       "    }\n",
       "</style>\n",
       "<table border=\"1\" class=\"dataframe\">\n",
       "  <thead>\n",
       "    <tr style=\"text-align: right;\">\n",
       "      <th></th>\n",
       "      <th>count</th>\n",
       "      <th>mean</th>\n",
       "      <th>std</th>\n",
       "      <th>min</th>\n",
       "      <th>1%</th>\n",
       "      <th>25%</th>\n",
       "      <th>50%</th>\n",
       "      <th>75%</th>\n",
       "      <th>99%</th>\n",
       "      <th>max</th>\n",
       "    </tr>\n",
       "  </thead>\n",
       "  <tbody>\n",
       "    <tr>\n",
       "      <th>Quantity</th>\n",
       "      <td>525461.0</td>\n",
       "      <td>8.685688</td>\n",
       "      <td>60.954547</td>\n",
       "      <td>-9600.00</td>\n",
       "      <td>-3.00</td>\n",
       "      <td>1.00</td>\n",
       "      <td>3.0</td>\n",
       "      <td>10.00</td>\n",
       "      <td>120.00</td>\n",
       "      <td>304.50</td>\n",
       "    </tr>\n",
       "    <tr>\n",
       "      <th>Price</th>\n",
       "      <td>525461.0</td>\n",
       "      <td>3.264510</td>\n",
       "      <td>109.822785</td>\n",
       "      <td>-53594.36</td>\n",
       "      <td>0.21</td>\n",
       "      <td>1.25</td>\n",
       "      <td>2.1</td>\n",
       "      <td>4.21</td>\n",
       "      <td>19.95</td>\n",
       "      <td>49.56</td>\n",
       "    </tr>\n",
       "    <tr>\n",
       "      <th>Customer ID</th>\n",
       "      <td>417534.0</td>\n",
       "      <td>15360.645478</td>\n",
       "      <td>1680.811316</td>\n",
       "      <td>12346.00</td>\n",
       "      <td>12435.00</td>\n",
       "      <td>13983.00</td>\n",
       "      <td>15311.0</td>\n",
       "      <td>16799.00</td>\n",
       "      <td>18196.00</td>\n",
       "      <td>18287.00</td>\n",
       "    </tr>\n",
       "  </tbody>\n",
       "</table>\n",
       "</div>"
      ],
      "text/plain": [
       "                count          mean          std       min        1%  \\\n",
       "Quantity     525461.0      8.685688    60.954547  -9600.00     -3.00   \n",
       "Price        525461.0      3.264510   109.822785 -53594.36      0.21   \n",
       "Customer ID  417534.0  15360.645478  1680.811316  12346.00  12435.00   \n",
       "\n",
       "                  25%      50%       75%       99%       max  \n",
       "Quantity         1.00      3.0     10.00    120.00    304.50  \n",
       "Price            1.25      2.1      4.21     19.95     49.56  \n",
       "Customer ID  13983.00  15311.0  16799.00  18196.00  18287.00  "
      ]
     },
     "execution_count": 13,
     "metadata": {},
     "output_type": "execute_result"
    }
   ],
   "source": [
    "# outliers values are now cleaner.\n",
    "\n",
    "df.describe([0.01,0.25,0.50,0.75,0.99]).T"
   ]
  },
  {
   "cell_type": "markdown",
   "metadata": {
    "papermill": {
     "duration": 0.04614,
     "end_time": "2021-02-20T10:34:03.391508",
     "exception": false,
     "start_time": "2021-02-20T10:34:03.345368",
     "status": "completed"
    },
    "tags": []
   },
   "source": [
    "<font color = '#D35400'>\n",
    "Missing values are deleted. Canceled Invoices are not received and and a new variable was created."
   ]
  },
  {
   "cell_type": "code",
   "execution_count": 14,
   "metadata": {
    "execution": {
     "iopub.execute_input": "2021-02-20T10:34:03.491070Z",
     "iopub.status.busy": "2021-02-20T10:34:03.490047Z",
     "iopub.status.idle": "2021-02-20T10:34:03.494027Z",
     "shell.execute_reply": "2021-02-20T10:34:03.493482Z"
    },
    "papermill": {
     "duration": 0.056326,
     "end_time": "2021-02-20T10:34:03.494186",
     "exception": false,
     "start_time": "2021-02-20T10:34:03.437860",
     "status": "completed"
    },
    "tags": []
   },
   "outputs": [],
   "source": [
    "def crm_data_prep(dataframe):\n",
    "    dataframe.dropna(axis=0, inplace=True)\n",
    "    dataframe = dataframe[~dataframe[\"Invoice\"].str.contains(\"C\", na=False)]\n",
    "    dataframe = dataframe[dataframe[\"Quantity\"] > 0]\n",
    "    dataframe[\"TotalPrice\"] = dataframe[\"Quantity\"] * dataframe[\"Price\"]\n",
    "    return dataframe\n",
    "\n"
   ]
  },
  {
   "cell_type": "code",
   "execution_count": 15,
   "metadata": {
    "execution": {
     "iopub.execute_input": "2021-02-20T10:34:03.592825Z",
     "iopub.status.busy": "2021-02-20T10:34:03.591651Z",
     "iopub.status.idle": "2021-02-20T10:34:04.937374Z",
     "shell.execute_reply": "2021-02-20T10:34:04.936313Z"
    },
    "papermill": {
     "duration": 1.397743,
     "end_time": "2021-02-20T10:34:04.937558",
     "exception": false,
     "start_time": "2021-02-20T10:34:03.539815",
     "status": "completed"
    },
    "tags": []
   },
   "outputs": [
    {
     "name": "stdout",
     "output_type": "stream",
     "text": [
      "##################### Shape #####################\n",
      "(407695, 9)\n",
      "##################### Types #####################\n",
      "Invoice                object\n",
      "StockCode              object\n",
      "Description            object\n",
      "Quantity              float64\n",
      "InvoiceDate    datetime64[ns]\n",
      "Price                 float64\n",
      "Customer ID           float64\n",
      "Country                object\n",
      "TotalPrice            float64\n",
      "dtype: object\n",
      "##################### Head #####################\n",
      "  Invoice StockCode                          Description  Quantity  \\\n",
      "0  489434     85048  15CM CHRISTMAS GLASS BALL 20 LIGHTS      12.0   \n",
      "1  489434    79323P                   PINK CHERRY LIGHTS      12.0   \n",
      "2  489434    79323W                  WHITE CHERRY LIGHTS      12.0   \n",
      "\n",
      "          InvoiceDate  Price  Customer ID         Country  TotalPrice  \n",
      "0 2009-12-01 07:45:00   6.95      13085.0  United Kingdom        83.4  \n",
      "1 2009-12-01 07:45:00   6.75      13085.0  United Kingdom        81.0  \n",
      "2 2009-12-01 07:45:00   6.75      13085.0  United Kingdom        81.0  \n",
      "##################### Tail #####################\n",
      "       Invoice StockCode                         Description  Quantity  \\\n",
      "525458  538171     22751      FELTCRAFT PRINCESS OLIVIA DOLL       1.0   \n",
      "525459  538171     20970  PINK FLORAL FELTCRAFT SHOULDER BAG       2.0   \n",
      "525460  538171     21931              JUMBO STORAGE BAG SUKI       2.0   \n",
      "\n",
      "               InvoiceDate  Price  Customer ID         Country  TotalPrice  \n",
      "525458 2010-12-09 20:01:00   3.75      17530.0  United Kingdom        3.75  \n",
      "525459 2010-12-09 20:01:00   3.75      17530.0  United Kingdom        7.50  \n",
      "525460 2010-12-09 20:01:00   1.95      17530.0  United Kingdom        3.90  \n",
      "##################### NA #####################\n",
      "Invoice        0\n",
      "StockCode      0\n",
      "Description    0\n",
      "Quantity       0\n",
      "InvoiceDate    0\n",
      "Price          0\n",
      "Customer ID    0\n",
      "Country        0\n",
      "TotalPrice     0\n",
      "dtype: int64\n",
      "##################### Quantiles #####################\n",
      "                0.00      0.05      0.50     0.95      0.99      1.00\n",
      "Quantity         1.0      1.00      5.00     36.0    144.00    304.50\n",
      "Price            0.0      0.42      1.95      8.5     14.95     49.56\n",
      "Customer ID  12346.0  12731.00  15321.00  17913.0  18196.00  18287.00\n",
      "TotalPrice       0.0      1.25     11.90     65.7    180.00   3884.00\n"
     ]
    }
   ],
   "source": [
    "df=crm_data_prep(df)\n",
    "check_df(df)\n"
   ]
  },
  {
   "cell_type": "markdown",
   "metadata": {
    "papermill": {
     "duration": 0.047009,
     "end_time": "2021-02-20T10:34:05.032402",
     "exception": false,
     "start_time": "2021-02-20T10:34:04.985393",
     "status": "completed"
    },
    "tags": []
   },
   "source": [
    "<font color = '#D35400'>\n",
    "Variables are as follows after they are cleared of outliers values."
   ]
  },
  {
   "cell_type": "code",
   "execution_count": 16,
   "metadata": {
    "execution": {
     "iopub.execute_input": "2021-02-20T10:34:05.133945Z",
     "iopub.status.busy": "2021-02-20T10:34:05.133244Z",
     "iopub.status.idle": "2021-02-20T10:34:05.319150Z",
     "shell.execute_reply": "2021-02-20T10:34:05.318555Z"
    },
    "papermill": {
     "duration": 0.238475,
     "end_time": "2021-02-20T10:34:05.319344",
     "exception": false,
     "start_time": "2021-02-20T10:34:05.080869",
     "status": "completed"
    },
    "tags": []
   },
   "outputs": [
    {
     "data": {
      "text/plain": [
       "<AxesSubplot:xlabel='Quantity'>"
      ]
     },
     "execution_count": 16,
     "metadata": {},
     "output_type": "execute_result"
    },
    {
     "data": {
      "image/png": "[encoded data removed]",
      "text/plain": [
       "<Figure size 432x288 with 1 Axes>"
      ]
     },
     "metadata": {
      "needs_background": "light"
     },
     "output_type": "display_data"
    }
   ],
   "source": [
    "sns.boxplot(df[\"Quantity\"])"
   ]
  },
  {
   "cell_type": "code",
   "execution_count": 17,
   "metadata": {
    "execution": {
     "iopub.execute_input": "2021-02-20T10:34:05.419545Z",
     "iopub.status.busy": "2021-02-20T10:34:05.418755Z",
     "iopub.status.idle": "2021-02-20T10:34:05.613242Z",
     "shell.execute_reply": "2021-02-20T10:34:05.613740Z"
    },
    "papermill": {
     "duration": 0.246459,
     "end_time": "2021-02-20T10:34:05.613932",
     "exception": false,
     "start_time": "2021-02-20T10:34:05.367473",
     "status": "completed"
    },
    "tags": []
   },
   "outputs": [
    {
     "data": {
      "image/png": "[encoded data removed]",
      "text/plain": [
       "<Figure size 432x288 with 1 Axes>"
      ]
     },
     "metadata": {
      "needs_background": "light"
     },
     "output_type": "display_data"
    }
   ],
   "source": [
    "sns.boxplot(df[\"Price\"]);"
   ]
  },
  {
   "cell_type": "markdown",
   "metadata": {
    "papermill": {
     "duration": 0.049107,
     "end_time": "2021-02-20T10:34:05.711756",
     "exception": false,
     "start_time": "2021-02-20T10:34:05.662649",
     "status": "completed"
    },
    "tags": []
   },
   "source": [
    " <font color = '#F1C40F'>\n",
    "\n",
    "<a id = \"10\"></a><br>\n",
    "# RFM\n"
   ]
  },
  {
   "cell_type": "markdown",
   "metadata": {
    "papermill": {
     "duration": 0.048773,
     "end_time": "2021-02-20T10:34:05.811613",
     "exception": false,
     "start_time": "2021-02-20T10:34:05.762840",
     "status": "completed"
    },
    "tags": []
   },
   "source": [
    " <font color = '#34495E'>\n",
    "\n",
    "\n",
    " Now, we are creating RFM.\n",
    "\n",
    "  <a id = \"11\"></a><br>\n",
    " ### What is RFM?\n",
    "<p><img style=\"float: right;margin:-10px 20px 20px 5px; max-width:380px\" src=\"https://d35fo82fjcw0y8.cloudfront.net/2018/03/01013508/Incontent_image.png\"><p>RFM represents a method used for measuring customer value. An RFM analysis can show you who are the most valuable customers for your business. The ones who buy most frequently, most often, and spend the most. First of all, the metrics you have seen are calculated\n",
    "\n",
    "\n",
    "\n"
   ]
  },
  {
   "cell_type": "code",
   "execution_count": 18,
   "metadata": {
    "execution": {
     "iopub.execute_input": "2021-02-20T10:34:05.913223Z",
     "iopub.status.busy": "2021-02-20T10:34:05.912541Z",
     "iopub.status.idle": "2021-02-20T10:34:05.922264Z",
     "shell.execute_reply": "2021-02-20T10:34:05.921545Z"
    },
    "papermill": {
     "duration": 0.062023,
     "end_time": "2021-02-20T10:34:05.922419",
     "exception": false,
     "start_time": "2021-02-20T10:34:05.860396",
     "status": "completed"
    },
    "tags": []
   },
   "outputs": [
    {
     "data": {
      "text/plain": [
       "Timestamp('2010-12-09 20:01:00')"
      ]
     },
     "execution_count": 18,
     "metadata": {},
     "output_type": "execute_result"
    }
   ],
   "source": [
    "# last transaction date\n",
    "\n",
    "df[\"InvoiceDate\"].max()\n"
   ]
  },
  {
   "cell_type": "code",
   "execution_count": 19,
   "metadata": {
    "execution": {
     "iopub.execute_input": "2021-02-20T10:34:06.034444Z",
     "iopub.status.busy": "2021-02-20T10:34:06.031117Z",
     "iopub.status.idle": "2021-02-20T10:34:06.037921Z",
     "shell.execute_reply": "2021-02-20T10:34:06.038478Z"
    },
    "papermill": {
     "duration": 0.066756,
     "end_time": "2021-02-20T10:34:06.038663",
     "exception": false,
     "start_time": "2021-02-20T10:34:05.971907",
     "status": "completed"
    },
    "tags": []
   },
   "outputs": [],
   "source": [
    "def create_rfm(dataframe):\n",
    "    # RFM Metrics\n",
    "    \n",
    "\n",
    "    today_date = dt.datetime(2010, 12, 11)\n",
    "\n",
    "    rfm = dataframe.groupby('Customer ID').agg({'InvoiceDate': lambda date: (today_date - date.max()).days,\n",
    "                                                'Invoice': lambda num: num.nunique(),\n",
    "                                                \"TotalPrice\": lambda price: price.sum()})\n",
    "\n",
    "    rfm.columns = ['recency', 'frequency', \"monetary\"]\n",
    "\n",
    "    rfm = rfm[(rfm['monetary'] > 0)]\n",
    "\n",
    "\n",
    "    # RFM score\n",
    "    rfm[\"recency_score\"] = pd.qcut(rfm['recency'], 5, labels=[5, 4, 3, 2, 1])\n",
    "    rfm[\"frequency_score\"] = pd.qcut(rfm[\"frequency\"].rank(method=\"first\"), 5, labels=[1, 2, 3, 4, 5])\n",
    "\n",
    "\n",
    "\n",
    "    # segment naming\n",
    "    rfm['rfm_segment'] = rfm['recency_score'].astype(str) + rfm['frequency_score'].astype(str)\n",
    "\n",
    "    seg_map = {\n",
    "        r'[1-2][1-2]': 'hibernating',\n",
    "        r'[1-2][3-4]': 'at_risk',\n",
    "        r'[1-2]5': 'cant_loose',\n",
    "        r'3[1-2]': 'about_to_sleep',\n",
    "        r'33': 'need_attention',\n",
    "        r'[3-4][4-5]': 'loyal_customers',\n",
    "        r'41': 'promising',\n",
    "        r'51': 'new_customers',\n",
    "        r'[4-5][2-3]': 'potential_loyalists',\n",
    "        r'5[4-5]': 'champions'\n",
    "    }\n",
    "\n",
    "    rfm['rfm_segment'] = rfm['rfm_segment'].replace(seg_map, regex=True)\n",
    "    rfm = rfm[[\"recency\", \"frequency\", \"monetary\", \"rfm_segment\"]]\n",
    "    return rfm\n",
    "\n",
    "\n"
   ]
  },
  {
   "cell_type": "code",
   "execution_count": 20,
   "metadata": {
    "execution": {
     "iopub.execute_input": "2021-02-20T10:34:06.146260Z",
     "iopub.status.busy": "2021-02-20T10:34:06.145536Z",
     "iopub.status.idle": "2021-02-20T10:34:07.991350Z",
     "shell.execute_reply": "2021-02-20T10:34:07.990773Z"
    },
    "papermill": {
     "duration": 1.903025,
     "end_time": "2021-02-20T10:34:07.991507",
     "exception": false,
     "start_time": "2021-02-20T10:34:06.088482",
     "status": "completed"
    },
    "tags": []
   },
   "outputs": [
    {
     "data": {
      "text/html": [
       "<div>\n",
       "<style scoped>\n",
       "    .dataframe tbody tr th:only-of-type {\n",
       "        vertical-align: middle;\n",
       "    }\n",
       "\n",
       "    .dataframe tbody tr th {\n",
       "        vertical-align: top;\n",
       "    }\n",
       "\n",
       "    .dataframe thead th {\n",
       "        text-align: right;\n",
       "    }\n",
       "</style>\n",
       "<table border=\"1\" class=\"dataframe\">\n",
       "  <thead>\n",
       "    <tr style=\"text-align: right;\">\n",
       "      <th></th>\n",
       "      <th>recency</th>\n",
       "      <th>frequency</th>\n",
       "      <th>monetary</th>\n",
       "      <th>rfm_segment</th>\n",
       "    </tr>\n",
       "    <tr>\n",
       "      <th>Customer ID</th>\n",
       "      <th></th>\n",
       "      <th></th>\n",
       "      <th></th>\n",
       "      <th></th>\n",
       "    </tr>\n",
       "  </thead>\n",
       "  <tbody>\n",
       "    <tr>\n",
       "      <th>12346.0</th>\n",
       "      <td>165</td>\n",
       "      <td>11</td>\n",
       "      <td>372.86</td>\n",
       "      <td>cant_loose</td>\n",
       "    </tr>\n",
       "    <tr>\n",
       "      <th>12347.0</th>\n",
       "      <td>3</td>\n",
       "      <td>2</td>\n",
       "      <td>1323.32</td>\n",
       "      <td>potential_loyalists</td>\n",
       "    </tr>\n",
       "    <tr>\n",
       "      <th>12348.0</th>\n",
       "      <td>74</td>\n",
       "      <td>1</td>\n",
       "      <td>222.16</td>\n",
       "      <td>hibernating</td>\n",
       "    </tr>\n",
       "    <tr>\n",
       "      <th>12349.0</th>\n",
       "      <td>43</td>\n",
       "      <td>3</td>\n",
       "      <td>2320.26</td>\n",
       "      <td>need_attention</td>\n",
       "    </tr>\n",
       "    <tr>\n",
       "      <th>12351.0</th>\n",
       "      <td>11</td>\n",
       "      <td>1</td>\n",
       "      <td>300.93</td>\n",
       "      <td>new_customers</td>\n",
       "    </tr>\n",
       "  </tbody>\n",
       "</table>\n",
       "</div>"
      ],
      "text/plain": [
       "             recency  frequency  monetary          rfm_segment\n",
       "Customer ID                                                   \n",
       "12346.0          165         11    372.86           cant_loose\n",
       "12347.0            3          2   1323.32  potential_loyalists\n",
       "12348.0           74          1    222.16          hibernating\n",
       "12349.0           43          3   2320.26       need_attention\n",
       "12351.0           11          1    300.93        new_customers"
      ]
     },
     "execution_count": 20,
     "metadata": {},
     "output_type": "execute_result"
    }
   ],
   "source": [
    "rfm = create_rfm(df)\n",
    "rfm.head()"
   ]
  },
  {
   "cell_type": "markdown",
   "metadata": {
    "papermill": {
     "duration": 0.04998,
     "end_time": "2021-02-20T10:34:08.091554",
     "exception": false,
     "start_time": "2021-02-20T10:34:08.041574",
     "status": "completed"
    },
    "tags": []
   },
   "source": [
    "<a id = \"12\"></a><br>\n",
    "Then segments are created. \n",
    "\n",
    "**So why are we doing this?**\n",
    "\n",
    "We look for answers to these questions;\n",
    "\n",
    "-Who is our most profitable customer?\n",
    "-What is it they appreciate in my products or services?\n",
    "-Who are my new customers?\n",
    "-How do I attract new customers to the company?\n",
    "\n",
    "The answers to the questions are hidden in the segmentation.\n",
    "\n",
    "With better RFM segmentation, we’ll be able to address certain segments in a personalized manner, based on their needs and preferences.\n",
    "\n",
    "Browse the scheme to more easily understand segmentation.\n"
   ]
  },
  {
   "cell_type": "markdown",
   "metadata": {
    "papermill": {
     "duration": 0.050066,
     "end_time": "2021-02-20T10:34:08.191964",
     "exception": false,
     "start_time": "2021-02-20T10:34:08.141898",
     "status": "completed"
    },
    "tags": []
   },
   "source": [
    "\n",
    "![](https://miro.medium.com/max/1234/0*JJBP4ToZiaw0HVPN.png) "
   ]
  },
  {
   "cell_type": "code",
   "execution_count": 21,
   "metadata": {
    "execution": {
     "iopub.execute_input": "2021-02-20T10:34:08.304857Z",
     "iopub.status.busy": "2021-02-20T10:34:08.303042Z",
     "iopub.status.idle": "2021-02-20T10:34:08.907810Z",
     "shell.execute_reply": "2021-02-20T10:34:08.907180Z"
    },
    "papermill": {
     "duration": 0.665557,
     "end_time": "2021-02-20T10:34:08.907995",
     "exception": false,
     "start_time": "2021-02-20T10:34:08.242438",
     "status": "completed"
    },
    "tags": []
   },
   "outputs": [
    {
     "data": {
      "text/plain": [
       "<AxesSubplot:xlabel='rfm_segment', ylabel='frequency'>"
      ]
     },
     "execution_count": 21,
     "metadata": {},
     "output_type": "execute_result"
    },
    {
     "data": {
      "image/png": "[encoded data removed]",
      "text/plain": [
       "<Figure size 1080x504 with 1 Axes>"
      ]
     },
     "metadata": {
      "needs_background": "light"
     },
     "output_type": "display_data"
    }
   ],
   "source": [
    "plt.figure(figsize=(15,7))\n",
    "sns.barplot(x=\"rfm_segment\", y=\"frequency\", data=rfm)"
   ]
  },
  {
   "cell_type": "code",
   "execution_count": 22,
   "metadata": {
    "execution": {
     "iopub.execute_input": "2021-02-20T10:34:09.030605Z",
     "iopub.status.busy": "2021-02-20T10:34:09.024474Z",
     "iopub.status.idle": "2021-02-20T10:34:09.043526Z",
     "shell.execute_reply": "2021-02-20T10:34:09.044270Z"
    },
    "papermill": {
     "duration": 0.083431,
     "end_time": "2021-02-20T10:34:09.044512",
     "exception": false,
     "start_time": "2021-02-20T10:34:08.961081",
     "status": "completed"
    },
    "tags": []
   },
   "outputs": [
    {
     "name": "stdout",
     "output_type": "stream",
     "text": [
      "##################### Shape #####################\n",
      "(4312, 4)\n",
      "##################### Types #####################\n",
      "recency          int64\n",
      "frequency        int64\n",
      "monetary       float64\n",
      "rfm_segment     object\n",
      "dtype: object\n",
      "##################### Head #####################\n",
      "             recency  frequency  monetary          rfm_segment\n",
      "Customer ID                                                   \n",
      "12346.0          165         11    372.86           cant_loose\n",
      "12347.0            3          2   1323.32  potential_loyalists\n",
      "12348.0           74          1    222.16          hibernating\n",
      "##################### Tail #####################\n",
      "             recency  frequency  monetary      rfm_segment\n",
      "Customer ID                                               \n",
      "18285.0          296          1    426.56      hibernating\n",
      "18286.0          112          2   1295.99          at_risk\n",
      "18287.0           18          4   2345.27  loyal_customers\n",
      "##################### NA #####################\n",
      "recency        0\n",
      "frequency      0\n",
      "monetary       0\n",
      "rfm_segment    0\n",
      "dtype: int64\n",
      "##################### Quantiles #####################\n",
      "           0.00    0.05     0.50      0.95        0.99       1.00\n",
      "recency    1.00    3.00   53.000   304.000    368.0000     374.00\n",
      "frequency  1.00    1.00    2.000    13.000     31.0000     205.00\n",
      "monetary   2.95  106.59  691.215  6008.537  18577.7716  303064.29\n"
     ]
    }
   ],
   "source": [
    "check_df(rfm)"
   ]
  },
  {
   "cell_type": "markdown",
   "metadata": {
    "papermill": {
     "duration": 0.051481,
     "end_time": "2021-02-20T10:34:09.152956",
     "exception": false,
     "start_time": "2021-02-20T10:34:09.101475",
     "status": "completed"
    },
    "tags": []
   },
   "source": [
    "<font color = '#F1C40F'>\n",
    "<p><img style=\"float: right;margin:-10px 20px 20px 5px; max-width:380px\" src=\"https://www.surveysensum.com/wp-content/uploads/2019/11/customer-lifetime-Value-SurveySensum.png\">\n",
    " \n",
    "\n",
    "<a id = \"13\"></a><br>\n",
    "\n",
    " #   What is Customer Lifetime Value(CLV or CLTV)?\n",
    "    \n",
    "    "
   ]
  },
  {
   "cell_type": "markdown",
   "metadata": {
    "papermill": {
     "duration": 0.051926,
     "end_time": "2021-02-20T10:34:09.257776",
     "exception": false,
     "start_time": "2021-02-20T10:34:09.205850",
     "status": "completed"
    },
    "tags": []
   },
   "source": [
    "\n",
    "<font color = '#34495E'>\n",
    "\n",
    "\n",
    "\n",
    "Customer lifetime value is how much money a customer will bring your brand throughout their entire time as a paying customer.It is the monetary value that a customer will give to a company during its relationship-communication with a company. \n",
    "\n",
    "In fact, it is to be able to extract the future situation from the current situation of the customer.\n",
    "\n",
    "\n",
    "For this we will first make a simple calculation and then we will add the time factor.\n"
   ]
  },
  {
   "cell_type": "markdown",
   "metadata": {
    "papermill": {
     "duration": 0.052613,
     "end_time": "2021-02-20T10:34:09.361986",
     "exception": false,
     "start_time": "2021-02-20T10:34:09.309373",
     "status": "completed"
    },
    "tags": []
   },
   "source": [
    "<font color = '#F1C40F'>\n",
    "    \n",
    "<a id = \"14\"></a><br>\n",
    "\n",
    "### CLTV Calculated"
   ]
  },
  {
   "cell_type": "markdown",
   "metadata": {
    "papermill": {
     "duration": 0.051656,
     "end_time": "2021-02-20T10:34:09.467082",
     "exception": false,
     "start_time": "2021-02-20T10:34:09.415426",
     "status": "completed"
    },
    "tags": []
   },
   "source": [
    "<font color = '#D35400'>\n",
    "\n",
    "This time we divided people into A, B, C segments. (Not to be confused with rfm segmentation.) Let's remember we do life-time value calculations.\n",
    "\n",
    "The calculations in the table have been made.\n",
    "\n",
    "Standardization process was done for better understanding."
   ]
  },
  {
   "cell_type": "code",
   "execution_count": 23,
   "metadata": {
    "execution": {
     "iopub.execute_input": "2021-02-20T10:34:09.581612Z",
     "iopub.status.busy": "2021-02-20T10:34:09.580843Z",
     "iopub.status.idle": "2021-02-20T10:34:09.584252Z",
     "shell.execute_reply": "2021-02-20T10:34:09.584726Z"
    },
    "papermill": {
     "duration": 0.066239,
     "end_time": "2021-02-20T10:34:09.584939",
     "exception": false,
     "start_time": "2021-02-20T10:34:09.518700",
     "status": "completed"
    },
    "tags": []
   },
   "outputs": [],
   "source": [
    "\n",
    "def create_cltv_calculated(dataframe):\n",
    "    # avg_order_value\n",
    "    dataframe['avg_order_value'] = dataframe['monetary'] / dataframe['frequency']\n",
    "\n",
    "    # purchase_frequency\n",
    "    dataframe[\"purchase_frequency\"] = dataframe['frequency'] / dataframe.shape[0]\n",
    "\n",
    "    # repeat rate & churn rate\n",
    "    repeat_rate = dataframe[dataframe.frequency > 1].shape[0] / dataframe.shape[0]\n",
    "    churn_rate = 1 - repeat_rate\n",
    "\n",
    "    # profit_margin\n",
    "    dataframe['profit_margin'] = dataframe['monetary'] * 0.05\n",
    "\n",
    "    # Customer Value\n",
    "    dataframe['cv'] = (dataframe['avg_order_value'] * dataframe[\"purchase_frequency\"])\n",
    "\n",
    "    # Customer Lifetime Value\n",
    "    dataframe['cltv'] = (dataframe['cv'] / churn_rate) * dataframe['profit_margin']\n",
    "\n",
    "    # minmaxscaler\n",
    "    scaler = MinMaxScaler(feature_range=(1, 100))\n",
    "    scaler.fit(dataframe[[\"cltv\"]])\n",
    "    dataframe[\"cltv_calculated\"] = scaler.transform(dataframe[[\"cltv\"]])\n",
    "\n",
    "    dataframe[\"cltv_calculated_segment\"] = pd.qcut(dataframe[\"cltv_calculated\"], 3, labels=[\"C\", \"B\", \"A\"])\n",
    "\n",
    "    dataframe = dataframe[[\"recency\", \"frequency\", \"monetary\", \"rfm_segment\",\n",
    "                           \"cltv_calculated\", \"cltv_calculated_segment\"]]\n",
    "\n",
    "    return dataframe\n",
    "\n"
   ]
  },
  {
   "cell_type": "code",
   "execution_count": 24,
   "metadata": {
    "execution": {
     "iopub.execute_input": "2021-02-20T10:34:09.701285Z",
     "iopub.status.busy": "2021-02-20T10:34:09.699818Z",
     "iopub.status.idle": "2021-02-20T10:34:09.742099Z",
     "shell.execute_reply": "2021-02-20T10:34:09.742772Z"
    },
    "papermill": {
     "duration": 0.103756,
     "end_time": "2021-02-20T10:34:09.743008",
     "exception": false,
     "start_time": "2021-02-20T10:34:09.639252",
     "status": "completed"
    },
    "tags": []
   },
   "outputs": [
    {
     "name": "stdout",
     "output_type": "stream",
     "text": [
      "##################### Shape #####################\n",
      "(4312, 6)\n",
      "##################### Types #####################\n",
      "recency                       int64\n",
      "frequency                     int64\n",
      "monetary                    float64\n",
      "rfm_segment                  object\n",
      "cltv_calculated             float64\n",
      "cltv_calculated_segment    category\n",
      "dtype: object\n",
      "##################### Head #####################\n",
      "             recency  frequency  monetary          rfm_segment  \\\n",
      "Customer ID                                                      \n",
      "12346.0          165         11    372.86           cant_loose   \n",
      "12347.0            3          2   1323.32  potential_loyalists   \n",
      "12348.0           74          1    222.16          hibernating   \n",
      "\n",
      "             cltv_calculated cltv_calculated_segment  \n",
      "Customer ID                                           \n",
      "12346.0             1.000150                       C  \n",
      "12347.0             1.001888                       A  \n",
      "12348.0             1.000053                       C  \n",
      "##################### Tail #####################\n",
      "             recency  frequency  monetary      rfm_segment  cltv_calculated  \\\n",
      "Customer ID                                                                   \n",
      "18285.0          296          1    426.56      hibernating         1.000196   \n",
      "18286.0          112          2   1295.99          at_risk         1.001810   \n",
      "18287.0           18          4   2345.27  loyal_customers         1.005929   \n",
      "\n",
      "            cltv_calculated_segment  \n",
      "Customer ID                          \n",
      "18285.0                           B  \n",
      "18286.0                           A  \n",
      "18287.0                           A  \n",
      "##################### NA #####################\n",
      "recency                    0\n",
      "frequency                  0\n",
      "monetary                   0\n",
      "rfm_segment                0\n",
      "cltv_calculated            0\n",
      "cltv_calculated_segment    0\n",
      "dtype: int64\n",
      "##################### Quantiles #####################\n",
      "                 0.00        0.05        0.50         0.95          0.99  \\\n",
      "recency          1.00    3.000000   53.000000   304.000000    368.000000   \n",
      "frequency        1.00    1.000000    2.000000    13.000000     31.000000   \n",
      "monetary         2.95  106.590000  691.215000  6008.537000  18577.771600   \n",
      "cltv_calculated  1.00    1.000012    1.000515     1.038914      1.372017   \n",
      "\n",
      "                      1.00  \n",
      "recency             374.00  \n",
      "frequency           205.00  \n",
      "monetary         303064.29  \n",
      "cltv_calculated     100.00  \n"
     ]
    }
   ],
   "source": [
    "rfm_cltv = create_cltv_calculated(rfm)\n",
    "check_df(rfm_cltv)\n"
   ]
  },
  {
   "cell_type": "code",
   "execution_count": 25,
   "metadata": {
    "execution": {
     "iopub.execute_input": "2021-02-20T10:34:09.859448Z",
     "iopub.status.busy": "2021-02-20T10:34:09.858705Z",
     "iopub.status.idle": "2021-02-20T10:34:10.461396Z",
     "shell.execute_reply": "2021-02-20T10:34:10.460806Z"
    },
    "papermill": {
     "duration": 0.665497,
     "end_time": "2021-02-20T10:34:10.461569",
     "exception": false,
     "start_time": "2021-02-20T10:34:09.796072",
     "status": "completed"
    },
    "tags": []
   },
   "outputs": [
    {
     "data": {
      "text/plain": [
       "<AxesSubplot:xlabel='rfm_segment', ylabel='cltv_calculated'>"
      ]
     },
     "execution_count": 25,
     "metadata": {},
     "output_type": "execute_result"
    },
    {
     "data": {
      "image/png": "[encoded data removed]",
      "text/plain": [
       "<Figure size 1080x504 with 1 Axes>"
      ]
     },
     "metadata": {
      "needs_background": "light"
     },
     "output_type": "display_data"
    }
   ],
   "source": [
    "plt.figure(figsize=(15,7))\n",
    "sns.barplot(x=\"rfm_segment\", y=\"cltv_calculated\", data=rfm_cltv)"
   ]
  },
  {
   "cell_type": "code",
   "execution_count": 26,
   "metadata": {
    "execution": {
     "iopub.execute_input": "2021-02-20T10:34:10.586930Z",
     "iopub.status.busy": "2021-02-20T10:34:10.586144Z",
     "iopub.status.idle": "2021-02-20T10:34:10.591567Z",
     "shell.execute_reply": "2021-02-20T10:34:10.591010Z"
    },
    "papermill": {
     "duration": 0.075647,
     "end_time": "2021-02-20T10:34:10.591739",
     "exception": false,
     "start_time": "2021-02-20T10:34:10.516092",
     "status": "completed"
    },
    "tags": []
   },
   "outputs": [
    {
     "data": {
      "text/html": [
       "<div>\n",
       "<style scoped>\n",
       "    .dataframe tbody tr th:only-of-type {\n",
       "        vertical-align: middle;\n",
       "    }\n",
       "\n",
       "    .dataframe tbody tr th {\n",
       "        vertical-align: top;\n",
       "    }\n",
       "\n",
       "    .dataframe thead th {\n",
       "        text-align: right;\n",
       "    }\n",
       "</style>\n",
       "<table border=\"1\" class=\"dataframe\">\n",
       "  <thead>\n",
       "    <tr style=\"text-align: right;\">\n",
       "      <th></th>\n",
       "      <th>recency</th>\n",
       "      <th>frequency</th>\n",
       "      <th>monetary</th>\n",
       "      <th>rfm_segment</th>\n",
       "      <th>cltv_calculated</th>\n",
       "      <th>cltv_calculated_segment</th>\n",
       "    </tr>\n",
       "    <tr>\n",
       "      <th>Customer ID</th>\n",
       "      <th></th>\n",
       "      <th></th>\n",
       "      <th></th>\n",
       "      <th></th>\n",
       "      <th></th>\n",
       "      <th></th>\n",
       "    </tr>\n",
       "  </thead>\n",
       "  <tbody>\n",
       "    <tr>\n",
       "      <th>12346.0</th>\n",
       "      <td>165</td>\n",
       "      <td>11</td>\n",
       "      <td>372.86</td>\n",
       "      <td>cant_loose</td>\n",
       "      <td>1.000150</td>\n",
       "      <td>C</td>\n",
       "    </tr>\n",
       "    <tr>\n",
       "      <th>12347.0</th>\n",
       "      <td>3</td>\n",
       "      <td>2</td>\n",
       "      <td>1323.32</td>\n",
       "      <td>potential_loyalists</td>\n",
       "      <td>1.001888</td>\n",
       "      <td>A</td>\n",
       "    </tr>\n",
       "    <tr>\n",
       "      <th>12348.0</th>\n",
       "      <td>74</td>\n",
       "      <td>1</td>\n",
       "      <td>222.16</td>\n",
       "      <td>hibernating</td>\n",
       "      <td>1.000053</td>\n",
       "      <td>C</td>\n",
       "    </tr>\n",
       "    <tr>\n",
       "      <th>12349.0</th>\n",
       "      <td>43</td>\n",
       "      <td>3</td>\n",
       "      <td>2320.26</td>\n",
       "      <td>need_attention</td>\n",
       "      <td>1.005803</td>\n",
       "      <td>A</td>\n",
       "    </tr>\n",
       "    <tr>\n",
       "      <th>12351.0</th>\n",
       "      <td>11</td>\n",
       "      <td>1</td>\n",
       "      <td>300.93</td>\n",
       "      <td>new_customers</td>\n",
       "      <td>1.000098</td>\n",
       "      <td>C</td>\n",
       "    </tr>\n",
       "  </tbody>\n",
       "</table>\n",
       "</div>"
      ],
      "text/plain": [
       "             recency  frequency  monetary          rfm_segment  \\\n",
       "Customer ID                                                      \n",
       "12346.0          165         11    372.86           cant_loose   \n",
       "12347.0            3          2   1323.32  potential_loyalists   \n",
       "12348.0           74          1    222.16          hibernating   \n",
       "12349.0           43          3   2320.26       need_attention   \n",
       "12351.0           11          1    300.93        new_customers   \n",
       "\n",
       "             cltv_calculated cltv_calculated_segment  \n",
       "Customer ID                                           \n",
       "12346.0             1.000150                       C  \n",
       "12347.0             1.001888                       A  \n",
       "12348.0             1.000053                       C  \n",
       "12349.0             1.005803                       A  \n",
       "12351.0             1.000098                       C  "
      ]
     },
     "execution_count": 26,
     "metadata": {},
     "output_type": "execute_result"
    }
   ],
   "source": [
    "rfm_cltv.head()"
   ]
  },
  {
   "cell_type": "code",
   "execution_count": 27,
   "metadata": {
    "execution": {
     "iopub.execute_input": "2021-02-20T10:34:10.717982Z",
     "iopub.status.busy": "2021-02-20T10:34:10.717218Z",
     "iopub.status.idle": "2021-02-20T10:34:11.007680Z",
     "shell.execute_reply": "2021-02-20T10:34:11.007081Z"
    },
    "papermill": {
     "duration": 0.359105,
     "end_time": "2021-02-20T10:34:11.007865",
     "exception": false,
     "start_time": "2021-02-20T10:34:10.648760",
     "status": "completed"
    },
    "tags": []
   },
   "outputs": [
    {
     "data": {
      "text/plain": [
       "<AxesSubplot:xlabel='cltv_calculated', ylabel='cltv_calculated_segment'>"
      ]
     },
     "execution_count": 27,
     "metadata": {},
     "output_type": "execute_result"
    },
    {
     "data": {
      "image/png": "[encoded data removed]",
      "text/plain": [
       "<Figure size 1080x504 with 1 Axes>"
      ]
     },
     "metadata": {
      "needs_background": "light"
     },
     "output_type": "display_data"
    }
   ],
   "source": [
    "plt.figure(figsize=(15,7))\n",
    "sns.barplot(x=\"cltv_calculated\", y=\"cltv_calculated_segment\", data=rfm_cltv)"
   ]
  },
  {
   "cell_type": "markdown",
   "metadata": {
    "papermill": {
     "duration": 0.057349,
     "end_time": "2021-02-20T10:34:11.122173",
     "exception": false,
     "start_time": "2021-02-20T10:34:11.064824",
     "status": "completed"
    },
    "tags": []
   },
   "source": [
    "<font color = '#F1C40F'>\n",
    "    \n",
    "<a id = \"15\"></a><br>\n",
    "\n",
    "### CLTV Preticted"
   ]
  },
  {
   "cell_type": "markdown",
   "metadata": {
    "papermill": {
     "duration": 0.055725,
     "end_time": "2021-02-20T10:34:11.234701",
     "exception": false,
     "start_time": "2021-02-20T10:34:11.178976",
     "status": "completed"
    },
    "tags": []
   },
   "source": [
    "<a id = \"16\"></a><br>\n",
    " What is a cohort model?\n",
    "\n",
    "Instead of simply assuming all the customers to be one group, we can try to split them into multiple groups and calculate the CLTV for each group. \n",
    "\n",
    " **Note**: recency value customized. (One of the key differences between RFM and CLTV)"
   ]
  },
  {
   "cell_type": "markdown",
   "metadata": {
    "papermill": {
     "duration": 0.056038,
     "end_time": "2021-02-20T10:34:11.347526",
     "exception": false,
     "start_time": "2021-02-20T10:34:11.291488",
     "status": "completed"
    },
    "tags": []
   },
   "source": [
    "<a id = \"17\"></a><br>\n",
    "### BG-NBD\n",
    "\n",
    "\n",
    "In short, expected sales value. Used to estimate how many purchases customers can make over a period of time\n",
    "\n",
    "This method computes the probability that a customer with history (frequency, recency_weekly, T_weekly) is currently alive.(relationship between recency & frequency)\n",
    "\n",
    "<a id = \"18\"></a><br>\n",
    "### Gamma Gamma\n",
    "\n",
    "-conditional expected number of purchases up to time-\n",
    "\n",
    "**Note1**: There should be no correlation between the **frequency of transactions** and **their monetary value.**\n",
    "\n",
    "**Note2:** We are considering only customers who made repeat purchases with the business i.e., frequency > 0. Because, if the frequency is 0, it means that they are a one-time customer and are considered already dead.\n"
   ]
  },
  {
   "cell_type": "code",
   "execution_count": 28,
   "metadata": {
    "execution": {
     "iopub.execute_input": "2021-02-20T10:34:11.484319Z",
     "iopub.status.busy": "2021-02-20T10:34:11.483571Z",
     "iopub.status.idle": "2021-02-20T10:34:11.721992Z",
     "shell.execute_reply": "2021-02-20T10:34:11.722583Z"
    },
    "papermill": {
     "duration": 0.318529,
     "end_time": "2021-02-20T10:34:11.722799",
     "exception": false,
     "start_time": "2021-02-20T10:34:11.404270",
     "status": "completed"
    },
    "tags": []
   },
   "outputs": [
    {
     "data": {
      "image/png": "[encoded data removed]",
      "text/plain": [
       "<Figure size 432x288 with 1 Axes>"
      ]
     },
     "metadata": {
      "needs_background": "light"
     },
     "output_type": "display_data"
    }
   ],
   "source": [
    "# The correlation seems very weak. \n",
    "\n",
    "plt.scatter(rfm_cltv.monetary,rfm_cltv.frequency,s=75)\n",
    "\n",
    "\n",
    "plt.xlabel(\"monetary\")\n",
    "plt.ylabel(\"frequency\")\n",
    "plt.legend()\n",
    "plt.show()"
   ]
  },
  {
   "cell_type": "code",
   "execution_count": 29,
   "metadata": {
    "execution": {
     "iopub.execute_input": "2021-02-20T10:34:11.855656Z",
     "iopub.status.busy": "2021-02-20T10:34:11.850351Z",
     "iopub.status.idle": "2021-02-20T10:34:11.862966Z",
     "shell.execute_reply": "2021-02-20T10:34:11.862340Z"
    },
    "papermill": {
     "duration": 0.081542,
     "end_time": "2021-02-20T10:34:11.863140",
     "exception": false,
     "start_time": "2021-02-20T10:34:11.781598",
     "status": "completed"
    },
    "tags": []
   },
   "outputs": [],
   "source": [
    "def create_cltv_predicted(dataframe):\n",
    "    today_date = dt.datetime(2010, 12, 11)\n",
    "\n",
    "    ## recency value customized\n",
    "    rfm = dataframe.groupby('Customer ID').agg({'InvoiceDate': [lambda date: (date.max()-date.min()).days,\n",
    "                                                                lambda date: (today_date - date.min()).days],\n",
    "                                                'Invoice': lambda num: num.nunique(),\n",
    "                                                'TotalPrice': lambda TotalPrice: TotalPrice.sum()})\n",
    "\n",
    "    rfm.columns = rfm.columns.droplevel(0)\n",
    "\n",
    "    ## recency_cltv_predicted\n",
    "    rfm.columns = ['recency_cltv_predicted', 'T', 'frequency', 'monetary']\n",
    "\n",
    "    ## basic monetary_avg\n",
    "    rfm[\"monetary\"] = rfm[\"monetary\"] / rfm[\"frequency\"]\n",
    "\n",
    "    rfm.rename(columns={\"monetary\": \"monetary_avg\"}, inplace=True)\n",
    "\n",
    "\n",
    "  \n",
    "    ## recency_weekly_cltv_predicted\n",
    "    rfm[\"recency_weekly_cltv_predicted\"] = rfm[\"recency_cltv_predicted\"] / 7\n",
    "    rfm[\"T_weekly\"] = rfm[\"T\"] / 7\n",
    "\n",
    "\n",
    "\n",
    "    # CONTROL\n",
    "    rfm = rfm[rfm[\"monetary_avg\"] > 0]\n",
    "\n",
    "    ## recency filter\n",
    "    rfm = rfm[(rfm['frequency'] > 1)]\n",
    "\n",
    "    rfm[\"frequency\"] = rfm[\"frequency\"].astype(int)\n",
    "\n",
    "    # BGNBD\n",
    "    bgf = BetaGeoFitter(penalizer_coef=0.01)\n",
    "    bgf.fit(rfm['frequency'],\n",
    "            rfm['recency_weekly_cltv_predicted'],\n",
    "            rfm['T_weekly'])\n",
    "\n",
    "\n",
    "    # Gamma Gamma\n",
    "    ggf = GammaGammaFitter(penalizer_coef=0.01)\n",
    "    ggf.fit(rfm['frequency'], rfm['monetary_avg'])\n",
    "    rfm[\"expected_average_profit\"] = ggf.conditional_expected_average_profit(rfm['frequency'],\n",
    "                                                                             rfm['monetary_avg'])\n",
    "    # 6 months cltv_p\n",
    "    cltv = ggf.customer_lifetime_value(bgf,\n",
    "                                       rfm['frequency'],\n",
    "                                       rfm['recency_weekly_cltv_predicted'],\n",
    "                                       rfm['T_weekly'],\n",
    "                                       rfm['monetary_avg'],\n",
    "                                       time=6,\n",
    "                                       freq=\"W\",\n",
    "                                       discount_rate=0.01)\n",
    "\n",
    "    rfm[\"cltv_predicted\"] = cltv\n",
    "\n",
    "    # minmaxscaler\n",
    "    scaler = MinMaxScaler(feature_range=(1, 100))\n",
    "    scaler.fit(rfm[[\"cltv_predicted\"]])\n",
    "    rfm[\"cltv_predicted\"] = scaler.transform(rfm[[\"cltv_predicted\"]])\n",
    "\n",
    "    # rfm.fillna(0, inplace=True)\n",
    "\n",
    "    # cltv_predicted_segment\n",
    "    rfm[\"cltv_predicted_segment\"] = pd.qcut(rfm[\"cltv_predicted\"], 3, labels=[\"C\", \"B\", \"A\"])\n",
    "\n",
    "    ## recency_cltv_predicted, recency_weekly_cltv_predicted\n",
    "    rfm = rfm[[\"recency_cltv_predicted\", \"T\", \"monetary_avg\", \"recency_weekly_cltv_predicted\", \"T_weekly\",\n",
    "               \"expected_average_profit\",\"cltv_predicted\", \"cltv_predicted_segment\"]]\n",
    "\n",
    "\n",
    "    return rfm\n"
   ]
  },
  {
   "cell_type": "code",
   "execution_count": 30,
   "metadata": {
    "execution": {
     "iopub.execute_input": "2021-02-20T10:34:11.986223Z",
     "iopub.status.busy": "2021-02-20T10:34:11.985303Z",
     "iopub.status.idle": "2021-02-20T10:34:15.083531Z",
     "shell.execute_reply": "2021-02-20T10:34:15.077930Z"
    },
    "papermill": {
     "duration": 3.161994,
     "end_time": "2021-02-20T10:34:15.083727",
     "exception": false,
     "start_time": "2021-02-20T10:34:11.921733",
     "status": "completed"
    },
    "tags": []
   },
   "outputs": [
    {
     "name": "stdout",
     "output_type": "stream",
     "text": [
      "##################### Shape #####################\n",
      "(2893, 8)\n",
      "##################### Types #####################\n",
      "recency_cltv_predicted              int64\n",
      "T                                   int64\n",
      "monetary_avg                      float64\n",
      "recency_weekly_cltv_predicted     float64\n",
      "T_weekly                          float64\n",
      "expected_average_profit           float64\n",
      "cltv_predicted                    float64\n",
      "cltv_predicted_segment           category\n",
      "dtype: object\n",
      "##################### Head #####################\n",
      "             recency_cltv_predicted    T  monetary_avg  \\\n",
      "Customer ID                                              \n",
      "12346.0                         196  361     33.896364   \n",
      "12347.0                          37   40    661.660000   \n",
      "12349.0                         181  225    773.420000   \n",
      "\n",
      "             recency_weekly_cltv_predicted   T_weekly  \\\n",
      "Customer ID                                             \n",
      "12346.0                          28.000000  51.571429   \n",
      "12347.0                           5.285714   5.714286   \n",
      "12349.0                          25.857143  32.142857   \n",
      "\n",
      "             expected_average_profit  cltv_predicted cltv_predicted_segment  \n",
      "Customer ID                                                                  \n",
      "12346.0                    34.785293        1.032671                      C  \n",
      "12347.0                   726.711783        4.445715                      A  \n",
      "12349.0                   822.330524        2.793966                      A  \n",
      "##################### Tail #####################\n",
      "             recency_cltv_predicted    T  monetary_avg  \\\n",
      "Customer ID                                              \n",
      "18283.0                         275  294    106.961667   \n",
      "18286.0                         247  359    647.995000   \n",
      "18287.0                         188  207    586.317500   \n",
      "\n",
      "             recency_weekly_cltv_predicted   T_weekly  \\\n",
      "Customer ID                                             \n",
      "18283.0                          39.285714  42.000000   \n",
      "18286.0                          35.285714  51.285714   \n",
      "18287.0                          26.857143  29.571429   \n",
      "\n",
      "             expected_average_profit  cltv_predicted cltv_predicted_segment  \n",
      "Customer ID                                                                  \n",
      "18283.0                   110.794353        1.329470                      C  \n",
      "18286.0                   711.745470        1.800114                      B  \n",
      "18287.0                   613.940696        2.767421                      A  \n",
      "##################### NA #####################\n",
      "recency_cltv_predicted           0\n",
      "T                                0\n",
      "monetary_avg                     0\n",
      "recency_weekly_cltv_predicted    0\n",
      "T_weekly                         0\n",
      "expected_average_profit          0\n",
      "cltv_predicted                   0\n",
      "cltv_predicted_segment           0\n",
      "dtype: int64\n",
      "##################### Quantiles #####################\n",
      "                                    0.00        0.05        0.50        0.95  \\\n",
      "recency_cltv_predicted          0.000000   11.000000  209.000000  362.000000   \n",
      "T                               7.000000   57.000000  288.000000  373.000000   \n",
      "monetary_avg                   10.822222  106.545000  299.522500  888.291429   \n",
      "recency_weekly_cltv_predicted   0.000000    1.571429   29.857143   51.714286   \n",
      "T_weekly                        1.000000    8.142857   41.142857   53.285714   \n",
      "expected_average_profit        11.457957  114.850774  314.474311  931.000246   \n",
      "cltv_predicted                  1.000000    1.101704    1.804342    4.566620   \n",
      "\n",
      "                                      0.99         1.00  \n",
      "recency_cltv_predicted          370.080000   373.000000  \n",
      "T                               374.000000   374.000000  \n",
      "monetary_avg                   1468.574600  5639.775000  \n",
      "recency_weekly_cltv_predicted    52.868571    53.285714  \n",
      "T_weekly                         53.428571    53.428571  \n",
      "expected_average_profit        1524.017380  6178.891147  \n",
      "cltv_predicted                   10.840943   100.000000  \n"
     ]
    }
   ],
   "source": [
    "rfm_cltv_predicted = create_cltv_predicted(df)\n",
    "check_df(rfm_cltv_predicted)"
   ]
  },
  {
   "cell_type": "code",
   "execution_count": 31,
   "metadata": {
    "execution": {
     "iopub.execute_input": "2021-02-20T10:34:15.245673Z",
     "iopub.status.busy": "2021-02-20T10:34:15.244596Z",
     "iopub.status.idle": "2021-02-20T10:34:15.263840Z",
     "shell.execute_reply": "2021-02-20T10:34:15.264497Z"
    },
    "papermill": {
     "duration": 0.10177,
     "end_time": "2021-02-20T10:34:15.264687",
     "exception": false,
     "start_time": "2021-02-20T10:34:15.162917",
     "status": "completed"
    },
    "tags": []
   },
   "outputs": [
    {
     "data": {
      "text/html": [
       "<div>\n",
       "<style scoped>\n",
       "    .dataframe tbody tr th:only-of-type {\n",
       "        vertical-align: middle;\n",
       "    }\n",
       "\n",
       "    .dataframe tbody tr th {\n",
       "        vertical-align: top;\n",
       "    }\n",
       "\n",
       "    .dataframe thead th {\n",
       "        text-align: right;\n",
       "    }\n",
       "</style>\n",
       "<table border=\"1\" class=\"dataframe\">\n",
       "  <thead>\n",
       "    <tr style=\"text-align: right;\">\n",
       "      <th></th>\n",
       "      <th>recency_cltv_predicted</th>\n",
       "      <th>T</th>\n",
       "      <th>monetary_avg</th>\n",
       "      <th>recency_weekly_cltv_predicted</th>\n",
       "      <th>T_weekly</th>\n",
       "      <th>expected_average_profit</th>\n",
       "      <th>cltv_predicted</th>\n",
       "      <th>cltv_predicted_segment</th>\n",
       "    </tr>\n",
       "    <tr>\n",
       "      <th>Customer ID</th>\n",
       "      <th></th>\n",
       "      <th></th>\n",
       "      <th></th>\n",
       "      <th></th>\n",
       "      <th></th>\n",
       "      <th></th>\n",
       "      <th></th>\n",
       "      <th></th>\n",
       "    </tr>\n",
       "  </thead>\n",
       "  <tbody>\n",
       "    <tr>\n",
       "      <th>12346.0</th>\n",
       "      <td>196</td>\n",
       "      <td>361</td>\n",
       "      <td>33.896364</td>\n",
       "      <td>28.000000</td>\n",
       "      <td>51.571429</td>\n",
       "      <td>34.785293</td>\n",
       "      <td>1.032671</td>\n",
       "      <td>C</td>\n",
       "    </tr>\n",
       "    <tr>\n",
       "      <th>12347.0</th>\n",
       "      <td>37</td>\n",
       "      <td>40</td>\n",
       "      <td>661.660000</td>\n",
       "      <td>5.285714</td>\n",
       "      <td>5.714286</td>\n",
       "      <td>726.711783</td>\n",
       "      <td>4.445715</td>\n",
       "      <td>A</td>\n",
       "    </tr>\n",
       "    <tr>\n",
       "      <th>12349.0</th>\n",
       "      <td>181</td>\n",
       "      <td>225</td>\n",
       "      <td>773.420000</td>\n",
       "      <td>25.857143</td>\n",
       "      <td>32.142857</td>\n",
       "      <td>822.330524</td>\n",
       "      <td>2.793966</td>\n",
       "      <td>A</td>\n",
       "    </tr>\n",
       "    <tr>\n",
       "      <th>12352.0</th>\n",
       "      <td>16</td>\n",
       "      <td>28</td>\n",
       "      <td>171.900000</td>\n",
       "      <td>2.285714</td>\n",
       "      <td>4.000000</td>\n",
       "      <td>190.312089</td>\n",
       "      <td>1.998767</td>\n",
       "      <td>B</td>\n",
       "    </tr>\n",
       "    <tr>\n",
       "      <th>12356.0</th>\n",
       "      <td>44</td>\n",
       "      <td>60</td>\n",
       "      <td>1187.416667</td>\n",
       "      <td>6.285714</td>\n",
       "      <td>8.571429</td>\n",
       "      <td>1261.801731</td>\n",
       "      <td>7.350573</td>\n",
       "      <td>A</td>\n",
       "    </tr>\n",
       "  </tbody>\n",
       "</table>\n",
       "</div>"
      ],
      "text/plain": [
       "             recency_cltv_predicted    T  monetary_avg  \\\n",
       "Customer ID                                              \n",
       "12346.0                         196  361     33.896364   \n",
       "12347.0                          37   40    661.660000   \n",
       "12349.0                         181  225    773.420000   \n",
       "12352.0                          16   28    171.900000   \n",
       "12356.0                          44   60   1187.416667   \n",
       "\n",
       "             recency_weekly_cltv_predicted   T_weekly  \\\n",
       "Customer ID                                             \n",
       "12346.0                          28.000000  51.571429   \n",
       "12347.0                           5.285714   5.714286   \n",
       "12349.0                          25.857143  32.142857   \n",
       "12352.0                           2.285714   4.000000   \n",
       "12356.0                           6.285714   8.571429   \n",
       "\n",
       "             expected_average_profit  cltv_predicted cltv_predicted_segment  \n",
       "Customer ID                                                                  \n",
       "12346.0                    34.785293        1.032671                      C  \n",
       "12347.0                   726.711783        4.445715                      A  \n",
       "12349.0                   822.330524        2.793966                      A  \n",
       "12352.0                   190.312089        1.998767                      B  \n",
       "12356.0                  1261.801731        7.350573                      A  "
      ]
     },
     "execution_count": 31,
     "metadata": {},
     "output_type": "execute_result"
    }
   ],
   "source": [
    "rfm_cltv_predicted.head()"
   ]
  },
  {
   "cell_type": "code",
   "execution_count": 32,
   "metadata": {
    "execution": {
     "iopub.execute_input": "2021-02-20T10:34:15.416373Z",
     "iopub.status.busy": "2021-02-20T10:34:15.415373Z",
     "iopub.status.idle": "2021-02-20T10:34:15.579458Z",
     "shell.execute_reply": "2021-02-20T10:34:15.580109Z"
    },
    "papermill": {
     "duration": 0.227643,
     "end_time": "2021-02-20T10:34:15.580315",
     "exception": false,
     "start_time": "2021-02-20T10:34:15.352672",
     "status": "completed"
    },
    "tags": []
   },
   "outputs": [
    {
     "data": {
      "image/png": "[encoded data removed]",
      "text/plain": [
       "<Figure size 432x288 with 1 Axes>"
      ]
     },
     "metadata": {
      "needs_background": "light"
     },
     "output_type": "display_data"
    }
   ],
   "source": [
    "rfm_cltv_predicted.groupby('cltv_predicted_segment').agg('expected_average_profit').mean().plot(kind='bar', colormap='copper_r');\n",
    "\n",
    "plt.ylabel(\"profit\");"
   ]
  },
  {
   "cell_type": "markdown",
   "metadata": {
    "papermill": {
     "duration": 0.0597,
     "end_time": "2021-02-20T10:34:15.700473",
     "exception": false,
     "start_time": "2021-02-20T10:34:15.640773",
     "status": "completed"
    },
    "tags": []
   },
   "source": [
    "\n",
    "\n",
    "<font color = '#F1C40F'>\n",
    "    \n",
    "<a id = \"19\"></a><br>\n",
    "    \n",
    "# And Finally...CRM!"
   ]
  },
  {
   "cell_type": "code",
   "execution_count": 33,
   "metadata": {
    "execution": {
     "iopub.execute_input": "2021-02-20T10:34:15.830342Z",
     "iopub.status.busy": "2021-02-20T10:34:15.829373Z",
     "iopub.status.idle": "2021-02-20T10:34:15.884614Z",
     "shell.execute_reply": "2021-02-20T10:34:15.883827Z"
    },
    "papermill": {
     "duration": 0.117478,
     "end_time": "2021-02-20T10:34:15.884822",
     "exception": false,
     "start_time": "2021-02-20T10:34:15.767344",
     "status": "completed"
    },
    "tags": []
   },
   "outputs": [
    {
     "name": "stdout",
     "output_type": "stream",
     "text": [
      "##################### Shape #####################\n",
      "(4312, 14)\n",
      "##################### Types #####################\n",
      "recency                             int64\n",
      "frequency                           int64\n",
      "monetary                          float64\n",
      "rfm_segment                        object\n",
      "cltv_calculated                   float64\n",
      "cltv_calculated_segment          category\n",
      "recency_cltv_predicted            float64\n",
      "T                                 float64\n",
      "monetary_avg                      float64\n",
      "recency_weekly_cltv_predicted     float64\n",
      "T_weekly                          float64\n",
      "expected_average_profit           float64\n",
      "cltv_predicted                    float64\n",
      "cltv_predicted_segment           category\n",
      "dtype: object\n",
      "##################### Head #####################\n",
      "             recency  frequency  monetary          rfm_segment  \\\n",
      "Customer ID                                                      \n",
      "12346.0          165         11    372.86           cant_loose   \n",
      "12347.0            3          2   1323.32  potential_loyalists   \n",
      "12348.0           74          1    222.16          hibernating   \n",
      "\n",
      "             cltv_calculated cltv_calculated_segment  recency_cltv_predicted  \\\n",
      "Customer ID                                                                    \n",
      "12346.0             1.000150                       C                   196.0   \n",
      "12347.0             1.001888                       A                    37.0   \n",
      "12348.0             1.000053                       C                     NaN   \n",
      "\n",
      "                 T  monetary_avg  recency_weekly_cltv_predicted   T_weekly  \\\n",
      "Customer ID                                                                  \n",
      "12346.0      361.0     33.896364                      28.000000  51.571429   \n",
      "12347.0       40.0    661.660000                       5.285714   5.714286   \n",
      "12348.0        NaN           NaN                            NaN        NaN   \n",
      "\n",
      "             expected_average_profit  cltv_predicted cltv_predicted_segment  \n",
      "Customer ID                                                                  \n",
      "12346.0                    34.785293        1.032671                      C  \n",
      "12347.0                   726.711783        4.445715                      A  \n",
      "12348.0                          NaN             NaN                    NaN  \n",
      "##################### Tail #####################\n",
      "             recency  frequency  monetary      rfm_segment  cltv_calculated  \\\n",
      "Customer ID                                                                   \n",
      "18285.0          296          1    426.56      hibernating         1.000196   \n",
      "18286.0          112          2   1295.99          at_risk         1.001810   \n",
      "18287.0           18          4   2345.27  loyal_customers         1.005929   \n",
      "\n",
      "            cltv_calculated_segment  recency_cltv_predicted      T  \\\n",
      "Customer ID                                                          \n",
      "18285.0                           B                     NaN    NaN   \n",
      "18286.0                           A                   247.0  359.0   \n",
      "18287.0                           A                   188.0  207.0   \n",
      "\n",
      "             monetary_avg  recency_weekly_cltv_predicted   T_weekly  \\\n",
      "Customer ID                                                           \n",
      "18285.0               NaN                            NaN        NaN   \n",
      "18286.0          647.9950                      35.285714  51.285714   \n",
      "18287.0          586.3175                      26.857143  29.571429   \n",
      "\n",
      "             expected_average_profit  cltv_predicted cltv_predicted_segment  \n",
      "Customer ID                                                                  \n",
      "18285.0                          NaN             NaN                    NaN  \n",
      "18286.0                   711.745470        1.800114                      B  \n",
      "18287.0                   613.940696        2.767421                      A  \n",
      "##################### NA #####################\n",
      "recency                             0\n",
      "frequency                           0\n",
      "monetary                            0\n",
      "rfm_segment                         0\n",
      "cltv_calculated                     0\n",
      "cltv_calculated_segment             0\n",
      "recency_cltv_predicted           1419\n",
      "T                                1419\n",
      "monetary_avg                     1419\n",
      "recency_weekly_cltv_predicted    1419\n",
      "T_weekly                         1419\n",
      "expected_average_profit          1419\n",
      "cltv_predicted                   1419\n",
      "cltv_predicted_segment           1419\n",
      "dtype: int64\n",
      "##################### Quantiles #####################\n",
      "                                    0.00        0.05        0.50         0.95  \\\n",
      "recency                         1.000000    3.000000   53.000000   304.000000   \n",
      "frequency                       1.000000    1.000000    2.000000    13.000000   \n",
      "monetary                        2.950000  106.590000  691.215000  6008.537000   \n",
      "cltv_calculated                 1.000000    1.000012    1.000515     1.038914   \n",
      "recency_cltv_predicted          0.000000   11.000000  209.000000   362.000000   \n",
      "T                               7.000000   57.000000  288.000000   373.000000   \n",
      "monetary_avg                   10.822222  106.545000  299.522500   888.291429   \n",
      "recency_weekly_cltv_predicted   0.000000    1.571429   29.857143    51.714286   \n",
      "T_weekly                        1.000000    8.142857   41.142857    53.285714   \n",
      "expected_average_profit        11.457957  114.850774  314.474311   931.000246   \n",
      "cltv_predicted                  1.000000    1.101704    1.804342     4.566620   \n",
      "\n",
      "                                       0.99           1.00  \n",
      "recency                          368.000000     374.000000  \n",
      "frequency                         31.000000     205.000000  \n",
      "monetary                       18577.771600  303064.290000  \n",
      "cltv_calculated                    1.372017     100.000000  \n",
      "recency_cltv_predicted           370.080000     373.000000  \n",
      "T                                374.000000     374.000000  \n",
      "monetary_avg                    1468.574600    5639.775000  \n",
      "recency_weekly_cltv_predicted     52.868571      53.285714  \n",
      "T_weekly                          53.428571      53.428571  \n",
      "expected_average_profit         1524.017380    6178.891147  \n",
      "cltv_predicted                    10.840943     100.000000  \n"
     ]
    }
   ],
   "source": [
    "crm_final = rfm_cltv.merge(rfm_cltv_predicted, on=\"Customer ID\", how=\"left\")\n",
    "check_df(crm_final)"
   ]
  },
  {
   "cell_type": "code",
   "execution_count": 34,
   "metadata": {
    "execution": {
     "iopub.execute_input": "2021-02-20T10:34:16.014022Z",
     "iopub.status.busy": "2021-02-20T10:34:16.012976Z",
     "iopub.status.idle": "2021-02-20T10:34:16.039890Z",
     "shell.execute_reply": "2021-02-20T10:34:16.040403Z"
    },
    "papermill": {
     "duration": 0.094446,
     "end_time": "2021-02-20T10:34:16.040596",
     "exception": false,
     "start_time": "2021-02-20T10:34:15.946150",
     "status": "completed"
    },
    "tags": []
   },
   "outputs": [
    {
     "data": {
      "text/html": [
       "<div>\n",
       "<style scoped>\n",
       "    .dataframe tbody tr th:only-of-type {\n",
       "        vertical-align: middle;\n",
       "    }\n",
       "\n",
       "    .dataframe tbody tr th {\n",
       "        vertical-align: top;\n",
       "    }\n",
       "\n",
       "    .dataframe thead th {\n",
       "        text-align: right;\n",
       "    }\n",
       "</style>\n",
       "<table border=\"1\" class=\"dataframe\">\n",
       "  <thead>\n",
       "    <tr style=\"text-align: right;\">\n",
       "      <th></th>\n",
       "      <th>recency</th>\n",
       "      <th>frequency</th>\n",
       "      <th>monetary</th>\n",
       "      <th>rfm_segment</th>\n",
       "      <th>cltv_calculated</th>\n",
       "      <th>cltv_calculated_segment</th>\n",
       "      <th>recency_cltv_predicted</th>\n",
       "      <th>T</th>\n",
       "      <th>monetary_avg</th>\n",
       "      <th>recency_weekly_cltv_predicted</th>\n",
       "      <th>T_weekly</th>\n",
       "      <th>expected_average_profit</th>\n",
       "      <th>cltv_predicted</th>\n",
       "      <th>cltv_predicted_segment</th>\n",
       "    </tr>\n",
       "    <tr>\n",
       "      <th>Customer ID</th>\n",
       "      <th></th>\n",
       "      <th></th>\n",
       "      <th></th>\n",
       "      <th></th>\n",
       "      <th></th>\n",
       "      <th></th>\n",
       "      <th></th>\n",
       "      <th></th>\n",
       "      <th></th>\n",
       "      <th></th>\n",
       "      <th></th>\n",
       "      <th></th>\n",
       "      <th></th>\n",
       "      <th></th>\n",
       "    </tr>\n",
       "  </thead>\n",
       "  <tbody>\n",
       "    <tr>\n",
       "      <th>12357.0</th>\n",
       "      <td>24</td>\n",
       "      <td>2</td>\n",
       "      <td>11279.55</td>\n",
       "      <td>potential_loyalists</td>\n",
       "      <td>1.137135</td>\n",
       "      <td>A</td>\n",
       "      <td>0.0</td>\n",
       "      <td>24.0</td>\n",
       "      <td>5639.775000</td>\n",
       "      <td>0.000000</td>\n",
       "      <td>3.428571</td>\n",
       "      <td>6178.891147</td>\n",
       "      <td>33.204317</td>\n",
       "      <td>A</td>\n",
       "    </tr>\n",
       "    <tr>\n",
       "      <th>17450.0</th>\n",
       "      <td>3</td>\n",
       "      <td>7</td>\n",
       "      <td>33132.20</td>\n",
       "      <td>champions</td>\n",
       "      <td>2.183222</td>\n",
       "      <td>A</td>\n",
       "      <td>70.0</td>\n",
       "      <td>74.0</td>\n",
       "      <td>4733.171429</td>\n",
       "      <td>10.000000</td>\n",
       "      <td>10.571429</td>\n",
       "      <td>4854.298121</td>\n",
       "      <td>42.870766</td>\n",
       "      <td>A</td>\n",
       "    </tr>\n",
       "    <tr>\n",
       "      <th>14091.0</th>\n",
       "      <td>290</td>\n",
       "      <td>2</td>\n",
       "      <td>9110.85</td>\n",
       "      <td>hibernating</td>\n",
       "      <td>1.089471</td>\n",
       "      <td>A</td>\n",
       "      <td>44.0</td>\n",
       "      <td>334.0</td>\n",
       "      <td>4555.425000</td>\n",
       "      <td>6.285714</td>\n",
       "      <td>47.714286</td>\n",
       "      <td>4991.278829</td>\n",
       "      <td>2.187712</td>\n",
       "      <td>A</td>\n",
       "    </tr>\n",
       "    <tr>\n",
       "      <th>14088.0</th>\n",
       "      <td>42</td>\n",
       "      <td>3</td>\n",
       "      <td>13544.99</td>\n",
       "      <td>need_attention</td>\n",
       "      <td>1.197753</td>\n",
       "      <td>A</td>\n",
       "      <td>14.0</td>\n",
       "      <td>57.0</td>\n",
       "      <td>4514.996667</td>\n",
       "      <td>2.000000</td>\n",
       "      <td>8.142857</td>\n",
       "      <td>4794.138374</td>\n",
       "      <td>22.742626</td>\n",
       "      <td>A</td>\n",
       "    </tr>\n",
       "    <tr>\n",
       "      <th>18102.0</th>\n",
       "      <td>1</td>\n",
       "      <td>89</td>\n",
       "      <td>303064.29</td>\n",
       "      <td>champions</td>\n",
       "      <td>100.000000</td>\n",
       "      <td>A</td>\n",
       "      <td>373.0</td>\n",
       "      <td>374.0</td>\n",
       "      <td>3405.216742</td>\n",
       "      <td>53.285714</td>\n",
       "      <td>53.428571</td>\n",
       "      <td>3411.925276</td>\n",
       "      <td>100.000000</td>\n",
       "      <td>A</td>\n",
       "    </tr>\n",
       "  </tbody>\n",
       "</table>\n",
       "</div>"
      ],
      "text/plain": [
       "             recency  frequency   monetary          rfm_segment  \\\n",
       "Customer ID                                                       \n",
       "12357.0           24          2   11279.55  potential_loyalists   \n",
       "17450.0            3          7   33132.20            champions   \n",
       "14091.0          290          2    9110.85          hibernating   \n",
       "14088.0           42          3   13544.99       need_attention   \n",
       "18102.0            1         89  303064.29            champions   \n",
       "\n",
       "             cltv_calculated cltv_calculated_segment  recency_cltv_predicted  \\\n",
       "Customer ID                                                                    \n",
       "12357.0             1.137135                       A                     0.0   \n",
       "17450.0             2.183222                       A                    70.0   \n",
       "14091.0             1.089471                       A                    44.0   \n",
       "14088.0             1.197753                       A                    14.0   \n",
       "18102.0           100.000000                       A                   373.0   \n",
       "\n",
       "                 T  monetary_avg  recency_weekly_cltv_predicted   T_weekly  \\\n",
       "Customer ID                                                                  \n",
       "12357.0       24.0   5639.775000                       0.000000   3.428571   \n",
       "17450.0       74.0   4733.171429                      10.000000  10.571429   \n",
       "14091.0      334.0   4555.425000                       6.285714  47.714286   \n",
       "14088.0       57.0   4514.996667                       2.000000   8.142857   \n",
       "18102.0      374.0   3405.216742                      53.285714  53.428571   \n",
       "\n",
       "             expected_average_profit  cltv_predicted cltv_predicted_segment  \n",
       "Customer ID                                                                  \n",
       "12357.0                  6178.891147       33.204317                      A  \n",
       "17450.0                  4854.298121       42.870766                      A  \n",
       "14091.0                  4991.278829        2.187712                      A  \n",
       "14088.0                  4794.138374       22.742626                      A  \n",
       "18102.0                  3411.925276      100.000000                      A  "
      ]
     },
     "execution_count": 34,
     "metadata": {},
     "output_type": "execute_result"
    }
   ],
   "source": [
    "# will be effective in campaign decisions\n",
    "\n",
    "crm_final.sort_values(by=\"monetary_avg\", ascending=False).head()"
   ]
  },
  {
   "cell_type": "markdown",
   "metadata": {
    "papermill": {
     "duration": 0.059857,
     "end_time": "2021-02-20T10:34:16.161138",
     "exception": false,
     "start_time": "2021-02-20T10:34:16.101281",
     "status": "completed"
    },
    "tags": []
   },
   "source": [
    "<font color = '#D35400'>\n",
    "    \n",
    "<a id = \"20\"></a><br>\n",
    "\n",
    "# FINAL\n",
    "\n",
    "So we can analyze each metric comparatively.\n",
    "\n",
    "We can make different decisions for customers in different segments.\n",
    "\n",
    "We can make different campaigns according to the decisions taken.\n",
    "\n",
    "After that, the productivity of the campaign can be measured by making different offers to the masses.\n",
    "\n",
    "A/B test can be used for this."
   ]
  }
 ],
 "metadata": {
  "kernelspec": {
   "display_name": "Python 3",
   "language": "python",
   "name": "python3"
  },
  "language_info": {
   "codemirror_mode": {
    "name": "ipython",
    "version": 3
   },
   "file_extension": ".py",
   "mimetype": "text/x-python",
   "name": "python",
   "nbconvert_exporter": "python",
   "pygments_lexer": "ipython3",
   "version": "3.7.9"
  },
  "papermill": {
   "default_parameters": {},
   "duration": 165.270951,
   "end_time": "2021-02-20T10:34:17.836804",
   "environment_variables": {},
   "exception": null,
   "input_path": "__notebook__.ipynb",
   "output_path": "__notebook__.ipynb",
   "parameters": {},
   "start_time": "2021-02-20T10:31:32.565853",
   "version": "2.2.2"
  }
 },
 "nbformat": 4,
 "nbformat_minor": 4
}
